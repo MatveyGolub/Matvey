{
  "nbformat": 4,
  "nbformat_minor": 0,
  "metadata": {
    "colab": {
      "provenance": [],
      "authorship_tag": "ABX9TyPBsJ+Gflr1pkUDOGmdjqok",
      "include_colab_link": true
    },
    "kernelspec": {
      "name": "python3",
      "display_name": "Python 3"
    },
    "language_info": {
      "name": "python"
    }
  },
  "cells": [
    {
      "cell_type": "markdown",
      "metadata": {
        "id": "view-in-github",
        "colab_type": "text"
      },
      "source": [
        "<a href=\"https://colab.research.google.com/github/MatveyGolub/Matvey/blob/main/Untitled1.ipynb\" target=\"_parent\"><img src=\"https://colab.research.google.com/assets/colab-badge.svg\" alt=\"Open In Colab\"/></a>"
      ]
    },
    {
      "cell_type": "code",
      "source": [
        "Задание 1"
      ],
      "metadata": {
        "id": "t-ZngVD7blXg"
      },
      "execution_count": null,
      "outputs": []
    },
    {
      "cell_type": "code",
      "execution_count": 3,
      "metadata": {
        "colab": {
          "base_uri": "https://localhost:8080/"
        },
        "id": "x1_Llgurbki8",
        "outputId": "f051dd07-8b80-4a3a-c68c-c6a92c0c2387"
      },
      "outputs": [
        {
          "output_type": "stream",
          "name": "stdout",
          "text": [
            "[1, 2, 3, 4, 5, 6, 7, 8, 9, 10]\n",
            "[1, 4, 9, 16, 25, 36, 49, 64, 81, 100]\n",
            "[1, 8, 27, 64, 125, 216, 343, 512, 729, 1000]\n"
          ]
        }
      ],
      "source": [
        "n = []\n",
        "s = []\n",
        "c = []\n",
        "for i in range(1,11):\n",
        "  n.append(i)\n",
        "  s.append(i**2)\n",
        "  c.append(i**3)\n",
        "print(n)\n",
        "print(s)\n",
        "print(c)"
      ]
    },
    {
      "cell_type": "markdown",
      "source": [
        "Задание 2"
      ],
      "metadata": {
        "id": "S9ocUafOd4iv"
      }
    },
    {
      "cell_type": "code",
      "source": [
        "num = []\n",
        "while True:\n",
        "  n = int(input())\n",
        "  if n == 0:\n",
        "    break\n",
        "  num.append(n)\n",
        "min_val = min(num)\n",
        "print(\"Минимальное значение:\", min_val)\n",
        "max_val = max(num)\n",
        "print(\"Максимальное значение:\", max_val)\n",
        "sort_n = sorted(num)\n",
        "print(\"Отсортированный список по возрастанию:\", sort_n)\n",
        "sorted_n = sorted(num, reverse = True)\n",
        "print(\"Отсортированный список по убыванию:\", sorted_n)\n",
        "count_el = len(num)\n",
        "count_ones = num.count(1)\n",
        "print(\"Количество элементов в списке:\", count_el)\n",
        "print(\"Количество единиц в списке:\", count_ones)\n",
        "l_ind = len(num) - 1\n",
        "l_val = num[l_ind]\n",
        "print(\"Индекс последнего введенного элемента:\", {l_ind})\n",
        "print(\"Значение последнего введенного элемента:\", {l_val})\n",
        "sum = sum(num)\n",
        "print(\"Сумма всех чисел:\", sum)"
      ],
      "metadata": {
        "colab": {
          "base_uri": "https://localhost:8080/",
          "height": 448
        },
        "id": "b48CVef8d2BG",
        "outputId": "9063f3f1-4a74-4353-ade4-0be258031443"
      },
      "execution_count": 17,
      "outputs": [
        {
          "output_type": "stream",
          "name": "stdout",
          "text": [
            "2\n",
            "5\n",
            "8\n",
            "3\n",
            "1\n",
            "0\n",
            "Минимальное значение: 1\n",
            "Максимальное значение: 8\n",
            "Отсортированный список по возрастанию: [1, 2, 3, 5, 8]\n",
            "Отсортированный список по убыванию: [8, 5, 3, 2, 1]\n",
            "Количество элементов в списке: 5\n",
            "Количество единиц в списке: 1\n",
            "Индекс последнего введенного элемента: {4}\n",
            "Значение последнего введенного элемента: {1}\n"
          ]
        },
        {
          "output_type": "error",
          "ename": "TypeError",
          "evalue": "'int' object is not callable",
          "traceback": [
            "\u001b[0;31m---------------------------------------------------------------------------\u001b[0m",
            "\u001b[0;31mTypeError\u001b[0m                                 Traceback (most recent call last)",
            "\u001b[0;32m<ipython-input-17-d90f2239d0ba>\u001b[0m in \u001b[0;36m<cell line: 23>\u001b[0;34m()\u001b[0m\n\u001b[1;32m     21\u001b[0m \u001b[0mprint\u001b[0m\u001b[0;34m(\u001b[0m\u001b[0;34m\"Индекс последнего введенного элемента:\"\u001b[0m\u001b[0;34m,\u001b[0m \u001b[0;34m{\u001b[0m\u001b[0ml_ind\u001b[0m\u001b[0;34m}\u001b[0m\u001b[0;34m)\u001b[0m\u001b[0;34m\u001b[0m\u001b[0;34m\u001b[0m\u001b[0m\n\u001b[1;32m     22\u001b[0m \u001b[0mprint\u001b[0m\u001b[0;34m(\u001b[0m\u001b[0;34m\"Значение последнего введенного элемента:\"\u001b[0m\u001b[0;34m,\u001b[0m \u001b[0;34m{\u001b[0m\u001b[0ml_val\u001b[0m\u001b[0;34m}\u001b[0m\u001b[0;34m)\u001b[0m\u001b[0;34m\u001b[0m\u001b[0;34m\u001b[0m\u001b[0m\n\u001b[0;32m---> 23\u001b[0;31m \u001b[0msum\u001b[0m \u001b[0;34m=\u001b[0m \u001b[0msum\u001b[0m\u001b[0;34m(\u001b[0m\u001b[0mnum\u001b[0m\u001b[0;34m)\u001b[0m\u001b[0;34m\u001b[0m\u001b[0;34m\u001b[0m\u001b[0m\n\u001b[0m\u001b[1;32m     24\u001b[0m \u001b[0mprint\u001b[0m\u001b[0;34m(\u001b[0m\u001b[0;34m\"Сумма всех чисел:\"\u001b[0m\u001b[0;34m,\u001b[0m \u001b[0msum\u001b[0m\u001b[0;34m)\u001b[0m\u001b[0;34m\u001b[0m\u001b[0;34m\u001b[0m\u001b[0m\n",
            "\u001b[0;31mTypeError\u001b[0m: 'int' object is not callable"
          ]
        }
      ]
    }
  ]
}