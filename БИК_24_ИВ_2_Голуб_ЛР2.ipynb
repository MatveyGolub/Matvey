{
  "nbformat": 4,
  "nbformat_minor": 0,
  "metadata": {
    "colab": {
      "provenance": [],
      "authorship_tag": "ABX9TyPenHFTmLTSkV0tb1k3YiYD",
      "include_colab_link": true
    },
    "kernelspec": {
      "name": "python3",
      "display_name": "Python 3"
    },
    "language_info": {
      "name": "python"
    }
  },
  "cells": [
    {
      "cell_type": "markdown",
      "metadata": {
        "id": "view-in-github",
        "colab_type": "text"
      },
      "source": [
        "<a href=\"https://colab.research.google.com/github/MatveyGolub/Matvey/blob/main/%D0%91%D0%98%D0%9A_24_%D0%98%D0%92_2_%D0%93%D0%BE%D0%BB%D1%83%D0%B1_%D0%9B%D0%A02.ipynb\" target=\"_parent\"><img src=\"https://colab.research.google.com/assets/colab-badge.svg\" alt=\"Open In Colab\"/></a>"
      ]
    },
    {
      "cell_type": "markdown",
      "source": [
        " Дан прямоугольный треугольник со сторонами a и b. Найти его площадь. Длины сторон: a = 16, b = 8."
      ],
      "metadata": {
        "id": "lzl_pEQlGUeA"
      }
    },
    {
      "cell_type": "code",
      "source": [
        "a = 16\n",
        "b = 8\n",
        "c = a * b / 2\n",
        "print (c)"
      ],
      "metadata": {
        "colab": {
          "base_uri": "https://localhost:8080/"
        },
        "id": "0urnmYnSKU9j",
        "outputId": "cc996ef1-9407-41c6-a2e6-d23ce3894350"
      },
      "execution_count": 2,
      "outputs": [
        {
          "output_type": "stream",
          "name": "stdout",
          "text": [
            "64.0\n"
          ]
        }
      ]
    },
    {
      "cell_type": "markdown",
      "source": [
        "Дано трехзначное число. Вывести его цифры. Можно использовать только арифметические операции."
      ],
      "metadata": {
        "id": "y9GMXuJ1LEfr"
      }
    },
    {
      "cell_type": "code",
      "source": [
        "a = 678 # Трехзначное число\n",
        "k = a // 100 # Сотня\n",
        "s = (a //10) % 10 # Десятка\n",
        "m = a % 10 # Единица\n",
        "print(\"Сотня:\", k)\n",
        "print(\"Десятка:\", s)\n",
        "print(\"Единица:\", m)"
      ],
      "metadata": {
        "colab": {
          "base_uri": "https://localhost:8080/"
        },
        "id": "1GiXleOTLg31",
        "outputId": "cd858511-46fb-48c7-d5f6-f4e73cafe71b"
      },
      "execution_count": 6,
      "outputs": [
        {
          "output_type": "stream",
          "name": "stdout",
          "text": [
            "Сотня: 6\n",
            "Десятка: 7\n",
            "Единица: 8\n"
          ]
        }
      ]
    },
    {
      "cell_type": "markdown",
      "source": [
        "Дано количество секунд n. Вывести время в формате \"Сейчас hh:mm:ss\"."
      ],
      "metadata": {
        "id": "fN5rG2lYPbKm"
      }
    },
    {
      "cell_type": "code",
      "source": [
        "n = 3265\n",
        "h = n//3600\n",
        "m = (n % 3600) // 60\n",
        "s = n % 60\n",
        "print (f\"Сейчас {h:02}:{m:02}:{s:02}\")"
      ],
      "metadata": {
        "colab": {
          "base_uri": "https://localhost:8080/"
        },
        "id": "ofygGkPOP2L2",
        "outputId": "0dd417f7-22c4-49fa-d8d7-1a3e7e0771fc"
      },
      "execution_count": 14,
      "outputs": [
        {
          "output_type": "stream",
          "name": "stdout",
          "text": [
            "Сейчас 00:54:25\n"
          ]
        }
      ]
    }
  ]
}