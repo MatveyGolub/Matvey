{
  "nbformat": 4,
  "nbformat_minor": 0,
  "metadata": {
    "colab": {
      "provenance": [],
      "authorship_tag": "ABX9TyMPqwo47F0JpAtnOXXwtXYd",
      "include_colab_link": true
    },
    "kernelspec": {
      "name": "python3",
      "display_name": "Python 3"
    },
    "language_info": {
      "name": "python"
    }
  },
  "cells": [
    {
      "cell_type": "markdown",
      "metadata": {
        "id": "view-in-github",
        "colab_type": "text"
      },
      "source": [
        "<a href=\"https://colab.research.google.com/github/MatveyGolub/Matvey/blob/main/%D0%9D%D0%B5%D0%B4%D0%B5%D0%BB%D1%8F2_%D0%93%D0%BE%D0%BB%D1%83%D0%B1%D0%9C%D0%95.ipynb\" target=\"_parent\"><img src=\"https://colab.research.google.com/assets/colab-badge.svg\" alt=\"Open In Colab\"/></a>"
      ]
    },
    {
      "cell_type": "markdown",
      "source": [
        "Задача №1"
      ],
      "metadata": {
        "id": "Bs-td_nunIS_"
      }
    },
    {
      "cell_type": "code",
      "source": [
        "a = int(input())\n",
        "b = int(input())\n",
        "c = (a**2 + b**2)**0.5\n",
        "print(c)"
      ],
      "metadata": {
        "colab": {
          "base_uri": "https://localhost:8080/"
        },
        "id": "bVk8pQ_sowKx",
        "outputId": "a9125c35-db93-4901-fe30-1e1f54bbac80"
      },
      "execution_count": null,
      "outputs": [
        {
          "output_type": "stream",
          "name": "stdout",
          "text": [
            "10\n",
            "40\n",
            "41.23105625617661\n"
          ]
        }
      ]
    },
    {
      "cell_type": "markdown",
      "source": [
        "Задача №2\n"
      ],
      "metadata": {
        "id": "65CL8o-upZ6j"
      }
    },
    {
      "cell_type": "code",
      "source": [
        "num = int(input())\n",
        "print(\"The next number for the number\" + \" \" + str(num) + \" \" + \"is\" + \" \" + str(num + 1))\n",
        "print(\"The previous number for the number\" + \" \" + str(num) + \" \" + \"is\" + \" \" + str(num - 1))"
      ],
      "metadata": {
        "colab": {
          "base_uri": "https://localhost:8080/"
        },
        "id": "KQq1qg_MqQ8_",
        "outputId": "fc344dd0-188c-4819-9404-b8b1cf09ed56"
      },
      "execution_count": null,
      "outputs": [
        {
          "output_type": "stream",
          "name": "stdout",
          "text": [
            "20\n",
            "The next number for the number 20 is 21\n",
            "The previous number for the number 20 is 19\n"
          ]
        }
      ]
    },
    {
      "cell_type": "markdown",
      "source": [
        "Задача №3\n"
      ],
      "metadata": {
        "id": "E74xFqr8tc6K"
      }
    },
    {
      "cell_type": "code",
      "source": [
        "x = int(input())\n",
        "print(x//1000-x%10 + x//100%10-x//10%10 + 1)\n"
      ],
      "metadata": {
        "colab": {
          "base_uri": "https://localhost:8080/"
        },
        "id": "ObgoB8hvtfqt",
        "outputId": "f74eb918-acb2-45c5-d156-299c9e1afa9e"
      },
      "execution_count": null,
      "outputs": [
        {
          "output_type": "stream",
          "name": "stdout",
          "text": [
            "134\n",
            "-5\n"
          ]
        }
      ]
    },
    {
      "cell_type": "markdown",
      "source": [
        "Задача №4\n"
      ],
      "metadata": {
        "id": "fUngqgAJuilp"
      }
    },
    {
      "cell_type": "code",
      "source": [
        "h = int(input())\n",
        "a = int(input())\n",
        "b = int(input())\n",
        "print(1 + (h - a) // (a - b))"
      ],
      "metadata": {
        "colab": {
          "base_uri": "https://localhost:8080/"
        },
        "id": "Yse0vv6IumLU",
        "outputId": "52496529-a079-463d-f99b-1b7930c6a250"
      },
      "execution_count": null,
      "outputs": [
        {
          "output_type": "stream",
          "name": "stdout",
          "text": [
            "20\n",
            "3\n",
            "2\n",
            "18\n"
          ]
        }
      ]
    },
    {
      "cell_type": "markdown",
      "source": [
        "Задача №5\n"
      ],
      "metadata": {
        "id": "eq6_1q55vZ6E"
      }
    },
    {
      "cell_type": "code",
      "source": [
        "n = int(input())\n",
        "h = (n // 3600) % 24\n",
        "n = n % 3600\n",
        "m = (n // 60)\n",
        "if m < 10:\n",
        "    m = \"0\" + str(m)\n",
        "s = n % 60\n",
        "if s < 10:\n",
        "    s = \"0\" + str(s)\n",
        "\n",
        "print(h, m, s, sep=':')"
      ],
      "metadata": {
        "colab": {
          "base_uri": "https://localhost:8080/"
        },
        "id": "outFO3bEvh27",
        "outputId": "0635359b-fbaa-4eb3-c1f7-ee71f6489d68"
      },
      "execution_count": null,
      "outputs": [
        {
          "output_type": "stream",
          "name": "stdout",
          "text": [
            "3600\n",
            "1:00:00\n"
          ]
        }
      ]
    },
    {
      "cell_type": "markdown",
      "source": [
        "Задача №6"
      ],
      "metadata": {
        "id": "4RE54ZFRwep3"
      }
    },
    {
      "cell_type": "code",
      "source": [
        "t1=list(map(int,input().split(':')))\n",
        "t2=list(map(int,input().split(':')))\n",
        "\n",
        "s1=t1[0]*3600+t1[1]*60+t1[2]\n",
        "s2=t2[0]*3600+t2[1]*60+t2[2]\n",
        "\n",
        "a = s2 - s1\n",
        "\n",
        "h = a // 3600\n",
        "a = a %3600\n",
        "m = a // 60\n",
        "s = a %60\n",
        "\n",
        "print(h,m,s)"
      ],
      "metadata": {
        "colab": {
          "base_uri": "https://localhost:8080/"
        },
        "id": "D45dKtpRwh2V",
        "outputId": "b37365b2-576b-4ae2-c877-3998ca1ff9e8"
      },
      "execution_count": null,
      "outputs": [
        {
          "output_type": "stream",
          "name": "stdout",
          "text": [
            "12:00:00\n",
            "13:50:00\n",
            "1 50 0\n"
          ]
        }
      ]
    },
    {
      "cell_type": "markdown",
      "source": [
        "Задача №7\n",
        "\n",
        "\n"
      ],
      "metadata": {
        "id": "AJjRrM7ky8ec"
      }
    },
    {
      "cell_type": "code",
      "source": [
        "a = int(input())\n",
        "b = int(input())\n",
        "a += b\n",
        "b = a - b\n",
        "a = a - b\n",
        "print(a, b)"
      ],
      "metadata": {
        "colab": {
          "base_uri": "https://localhost:8080/"
        },
        "id": "7ixBLi7Dy_8E",
        "outputId": "6dc536e4-5faa-48d4-a2d2-0664b4fd1fc5"
      },
      "execution_count": null,
      "outputs": [
        {
          "output_type": "stream",
          "name": "stdout",
          "text": [
            "5\n",
            "2\n",
            "2 5\n"
          ]
        }
      ]
    },
    {
      "cell_type": "markdown",
      "source": [
        "Задача №8\n"
      ],
      "metadata": {
        "id": "XkkVY_wmzXxH"
      }
    },
    {
      "cell_type": "code",
      "source": [
        "n = int(input())\n",
        "k = int(input())\n",
        "print(-k % n)"
      ],
      "metadata": {
        "colab": {
          "base_uri": "https://localhost:8080/"
        },
        "id": "HT7sP_OizbcR",
        "outputId": "7c334874-7d4e-4c28-a765-1471eb39cd5f"
      },
      "execution_count": null,
      "outputs": [
        {
          "output_type": "stream",
          "name": "stdout",
          "text": [
            "10\n",
            "4\n",
            "6\n"
          ]
        }
      ]
    },
    {
      "cell_type": "markdown",
      "source": [
        "Задача №9\n"
      ],
      "metadata": {
        "id": "XzAez7H00s-f"
      }
    },
    {
      "cell_type": "code",
      "source": [
        "n = int(input())\n",
        "a = n % 10\n",
        "n = n // 10\n",
        "b = n % 10\n",
        "n = n // 10\n",
        "print(n + a + b)\n"
      ],
      "metadata": {
        "colab": {
          "base_uri": "https://localhost:8080/"
        },
        "id": "vdThaUz-0woy",
        "outputId": "02eea2e9-41b8-4be5-f5ef-2159454e0f36"
      },
      "execution_count": null,
      "outputs": [
        {
          "output_type": "stream",
          "name": "stdout",
          "text": [
            "10\n",
            "1\n"
          ]
        }
      ]
    }
  ]
}