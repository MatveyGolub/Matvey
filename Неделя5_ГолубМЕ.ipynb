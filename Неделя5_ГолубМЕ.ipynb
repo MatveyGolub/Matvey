{
  "nbformat": 4,
  "nbformat_minor": 0,
  "metadata": {
    "colab": {
      "provenance": [],
      "authorship_tag": "ABX9TyOOIKzXH4XjMx5IEu0ZeHDt",
      "include_colab_link": true
    },
    "kernelspec": {
      "name": "python3",
      "display_name": "Python 3"
    },
    "language_info": {
      "name": "python"
    }
  },
  "cells": [
    {
      "cell_type": "markdown",
      "metadata": {
        "id": "view-in-github",
        "colab_type": "text"
      },
      "source": [
        "<a href=\"https://colab.research.google.com/github/MatveyGolub/Matvey/blob/main/%D0%9D%D0%B5%D0%B4%D0%B5%D0%BB%D1%8F5_%D0%93%D0%BE%D0%BB%D1%83%D0%B1%D0%9C%D0%95.ipynb\" target=\"_parent\"><img src=\"https://colab.research.google.com/assets/colab-badge.svg\" alt=\"Open In Colab\"/></a>"
      ]
    },
    {
      "cell_type": "markdown",
      "source": [
        "Задача №1"
      ],
      "metadata": {
        "id": "U3svDfANRe_L"
      }
    },
    {
      "cell_type": "code",
      "source": [
        "n = input()\n",
        "numbers = n.split()\n",
        "seen_num = set()\n",
        "for number in numbers:\n",
        "    if number in seen_num:\n",
        "        print(\"YES\")\n",
        "    else:\n",
        "        print(\"NO\")\n",
        "        seen_num.add(number)"
      ],
      "metadata": {
        "colab": {
          "base_uri": "https://localhost:8080/"
        },
        "id": "lOfHikcwRg9o",
        "outputId": "faeff66c-e114-4f56-eca7-3b863b9f5f58"
      },
      "execution_count": null,
      "outputs": [
        {
          "output_type": "stream",
          "name": "stdout",
          "text": [
            "13455345345\n",
            "NO\n"
          ]
        }
      ]
    },
    {
      "cell_type": "markdown",
      "source": [
        "Задача №2"
      ],
      "metadata": {
        "id": "61e_wckyRf0f"
      }
    },
    {
      "cell_type": "code",
      "source": [
        "from collections import defaultdict, deque\n",
        "N = int(input().strip())\n",
        "M = int(input().strip())\n",
        "\n",
        "line_to_stations = defaultdict(set)\n",
        "station_to_lines = defaultdict(set)\n",
        "for line_id in range(M):\n",
        "    line_info = list(map(int, input().strip().split()))\n",
        "    Pi = line_info[0]\n",
        "    stations = line_info[1:]\n",
        "    for station in stations:\n",
        "        line_to_stations[line_id].add(station)\n",
        "        station_to_lines[station].add(line_id)\n",
        "A, B = map(int, input().strip().split())\n",
        "queue = deque()\n",
        "visited = set()\n",
        "for line in station_to_lines[A]:\n",
        "    queue.append((A, line, 0))\n",
        "    visited.add((A, line))\n",
        "while queue:\n",
        "    current_station, current_line, transfers = queue.popleft()\n",
        "    if current_station == B:\n",
        "        print(transfers)\n",
        "        break\n",
        "    for next_station in line_to_stations[current_line]:\n",
        "        if (next_station, current_line) not in visited:\n",
        "            visited.add((next_station, current_line))\n",
        "            queue.append((next_station, current_line, transfers))\n",
        "    for next_line in station_to_lines[current_station]:\n",
        "        if next_line != current_line:\n",
        "            for next_station in line_to_stations[next_line]:\n",
        "                if (next_station, next_line) not in visited:\n",
        "                    visited.add((next_station, next_line))\n",
        "                    queue.append((next_station, next_line, transfers + 1))\n",
        "else:\n",
        "    print(-1)"
      ],
      "metadata": {
        "id": "U_fHBPNeRf7c"
      },
      "execution_count": null,
      "outputs": []
    },
    {
      "cell_type": "markdown",
      "source": [
        "Задача №3"
      ],
      "metadata": {
        "id": "HXKU74THRgBo"
      }
    },
    {
      "cell_type": "code",
      "source": [
        "N = int(input().strip())\n",
        "city_to_country = {}\n",
        "for _ in range(N):\n",
        "    data = input().strip().split()\n",
        "    country = data[0]\n",
        "    cities = data[1:]\n",
        "    for city in cities:\n",
        "        city_to_country[city] = country\n",
        "M = int(input().strip())\n",
        "for _ in range(M):\n",
        "    query_city = input().strip()\n",
        "    if query_city in city_to_country:\n",
        "        print(city_to_country[query_city])\n",
        "    else:\n",
        "        print(\"Город не найден\")"
      ],
      "metadata": {
        "id": "J51e7PCiRgIJ"
      },
      "execution_count": null,
      "outputs": []
    },
    {
      "cell_type": "markdown",
      "source": [
        "Задание №3"
      ],
      "metadata": {
        "id": "EGXzR_jflt8g"
      }
    },
    {
      "cell_type": "code",
      "source": [
        "votes = {}\n",
        "try:\n",
        "    while True:\n",
        "        line = input().strip()\n",
        "        if not line:\n",
        "            break\n",
        "        parts = line.split()\n",
        "        can = parts[0]\n",
        "        count = int(parts[1])\n",
        "\n",
        "        if can in votes:\n",
        "            votes[can] += count\n",
        "        else:\n",
        "            votes[can] = count\n",
        "except EOFError:\n",
        "    pass\n",
        "sorted_can = sorted(votes.keys())\n",
        "for can in sorted_can:\n",
        "    print(can, votes[can])"
      ],
      "metadata": {
        "id": "VIFMyLJgn4lD"
      },
      "execution_count": null,
      "outputs": []
    },
    {
      "cell_type": "markdown",
      "source": [
        "Задача №4"
      ],
      "metadata": {
        "id": "bRjpi1qlRw9s"
      }
    },
    {
      "cell_type": "code",
      "source": [
        "word_count = defaultdict(int)\n",
        "try:\n",
        "    while True:\n",
        "      line = input().strip()\n",
        "      if not line:\n",
        "          break\n",
        "        words = line.split()\n",
        "      for word in words:\n",
        "        word_count[word] += 1\n",
        "except EOFError:\n",
        "    pass\n",
        "sorted_words = sorted(word_count.items(), key=lambda item: (-item[1], item[0]))\n",
        "for word, count in sorted_words:\n",
        "    print(word)"
      ],
      "metadata": {
        "id": "xroTkWX3RwwS"
      },
      "execution_count": null,
      "outputs": []
    },
    {
      "cell_type": "markdown",
      "source": [
        "Задача №5"
      ],
      "metadata": {
        "id": "pFeqSmzcRwkX"
      }
    },
    {
      "cell_type": "code",
      "source": [
        "accounts = {}\n",
        "while True:\n",
        "    try:\n",
        "        command = input().strip().split()\n",
        "        if command[0] == \"DEPOSIT\":\n",
        "            name = command[1]\n",
        "            amount = int(command[2])\n",
        "            if name not in accounts:\n",
        "                accounts[name] = 0\n",
        "            accounts[name] += amount\n",
        "        elif command[0] == \"WITHDRAW\":\n",
        "            name = command[1]\n",
        "            amount = int(command[2])\n",
        "            if name not in accounts:\n",
        "                accounts[name] = 0\n",
        "            accounts[name] -= amount\n",
        "        elif command[0] == \"BALANCE\":\n",
        "            name = command[1]\n",
        "            if name not in accounts:\n",
        "                print(\"ERROR\")\n",
        "            else:\n",
        "                print(accounts[name])\n",
        "        elif command[0] == \"TRANSFER\":\n",
        "            from_name = command[1]\n",
        "            to_name = command[2]\n",
        "            amount = int(command[3])\n",
        "            if from_name not in accounts:\n",
        "                accounts[from_name] = 0\n",
        "            if to_name not in accounts:\n",
        "                accounts[to_name] = 0\n",
        "            accounts[from_name] -= amount\n",
        "            accounts[to_name] += amount\n",
        "        elif command[0] == \"INCOME\":\n",
        "            percentage = int(command[1])\n",
        "            for name in accounts:\n",
        "                if accounts[name] > 0:\n",
        "                    interest = accounts[name] * percentage // 100\n",
        "                    accounts[name] += interest\n",
        "    except EOFError:\n",
        "        break"
      ],
      "metadata": {
        "id": "RgWdpMTyRwYH"
      },
      "execution_count": null,
      "outputs": []
    },
    {
      "cell_type": "markdown",
      "source": [
        "Задача №6"
      ],
      "metadata": {
        "id": "Eh9dk8IaRwL-"
      }
    },
    {
      "cell_type": "code",
      "source": [
        "N, M, X, Y = map(int, input().split())\n",
        "matrix = [[0] * M for _ in range(N)]\n",
        "n = 0\n",
        "for i in range(N):\n",
        "    if i % 2 == 0:\n",
        "        for j in range(M):\n",
        "            matrix[i][j] = n\n",
        "            n += 1\n",
        "    else:\n",
        "        for j in range(M - 1, -1, -1):\n",
        "            matrix[i][j] = n\n",
        "            n += 1\n",
        "print(matrix[X - 1][Y - 1])"
      ],
      "metadata": {
        "id": "8u9pSXpGR5Di"
      },
      "execution_count": null,
      "outputs": []
    },
    {
      "cell_type": "markdown",
      "source": [
        "Задача №7"
      ],
      "metadata": {
        "id": "Q83l0Z3zR57n"
      }
    },
    {
      "cell_type": "code",
      "source": [
        "N = int(input())\n",
        "calories = []\n",
        "for _ in range(N):\n",
        "    row = list(map(int, input().split()))\n",
        "    calories.append(row)\n",
        "x, y = N - 1, 0\n",
        "total_calories = 0\n",
        "while x >= 0 and y < N:\n",
        "    total_calories += calories[x][y]\n",
        "    if x > 0 and y < N - 1:\n",
        "        if calories[x - 1][y] > calories[x][y + 1]:\n",
        "            x -= 1\n",
        "        else:\n",
        "            y += 1\n",
        "    elif x > 0:\n",
        "        x -= 1\n",
        "    elif y < N - 1:\n",
        "        y += 1\n",
        "print(total_calories)"
      ],
      "metadata": {
        "id": "y3J93u-yR6ZX"
      },
      "execution_count": null,
      "outputs": []
    },
    {
      "cell_type": "markdown",
      "source": [
        "Задача №8"
      ],
      "metadata": {
        "id": "tMD56XwfR7FS"
      }
    },
    {
      "cell_type": "code",
      "source": [
        "X = int(input())\n",
        "N = int(input())\n",
        "table = []\n",
        "for _ in range(N):\n",
        "    row = list(map(int, input().split()))\n",
        "    table.append(row)\n",
        "for col in range(N):\n",
        "    found = False\n",
        "    for row in range(N):\n",
        "        if table[row][col] == X:\n",
        "            found = True\n",
        "            break\n",
        "    if found:\n",
        "        print(\"YES\")\n",
        "    else:\n",
        "        print(\"NO\")"
      ],
      "metadata": {
        "id": "UTuePSRbR693"
      },
      "execution_count": null,
      "outputs": []
    },
    {
      "cell_type": "markdown",
      "source": [
        "Задача №9"
      ],
      "metadata": {
        "id": "XAsA0AjjR6vB"
      }
    },
    {
      "cell_type": "code",
      "source": [
        "from collections import defaultdict\n",
        "purchases = defaultdict(lambda: defaultdict(int))\n",
        "while True:\n",
        "    try:\n",
        "        line = input().strip()\n",
        "        if not line:\n",
        "            break\n",
        "        buyer, product, quantity = line.split()\n",
        "        quantity = int(quantity)\n",
        "        purchases[buyer][product] += quantity\n",
        "    except EOFError:\n",
        "        break\n",
        "sorted_buyers = sorted(purchases.keys())\n",
        "output = []\n",
        "for buyer in sorted_buyers:\n",
        "    output.append(f\"{buyer}:\")\n",
        "    sorted_products = sorted(purchases[buyer].keys())\n",
        "    for product in sorted_products:\n",
        "        quantity = purchases[buyer][product]\n",
        "        output.append(f\"{product} {quantity}\")\n",
        "print(\"\\n\".join(output))\n"
      ],
      "metadata": {
        "id": "lWX5ZnnvR5rk"
      },
      "execution_count": null,
      "outputs": []
    },
    {
      "cell_type": "markdown",
      "source": [
        "Задача №10"
      ],
      "metadata": {
        "id": "Ue2GyVq5R5hD"
      }
    },
    {
      "cell_type": "code",
      "source": [
        "import sys\n",
        "N = int(sys.stdin.readline().strip())\n",
        "file_permissions = {}\n",
        "for _ in range(N):\n",
        "    line = sys.stdin.readline().strip().split()\n",
        "    filename = line[0]\n",
        "    permissions = set(line[1:])\n",
        "    file_permissions[filename] = permissions\n",
        "M = int(sys.stdin.readline().strip())\n",
        "for _ in range(M):\n",
        "    operation, filename = sys.stdin.readline().strip().split()\n",
        "    if operation == \"read\":\n",
        "        op = \"R\"\n",
        "    elif operation == \"write\":\n",
        "        op = \"W\"\n",
        "    elif operation == \"execute\":\n",
        "        op = \"X\"\n",
        "    else:\n",
        "        print(\"Access denied\")\n",
        "        continue\n",
        "    if filename in file_permissions and op in file_permissions[filename]:\n",
        "        print(\"OK\")\n",
        "    else:\n",
        "        print(\"Access denied\")"
      ],
      "metadata": {
        "id": "U3DiQv8mSFHP"
      },
      "execution_count": null,
      "outputs": []
    }
  ]
}