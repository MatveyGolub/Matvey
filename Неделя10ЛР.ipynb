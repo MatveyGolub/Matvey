{
  "nbformat": 4,
  "nbformat_minor": 0,
  "metadata": {
    "colab": {
      "provenance": [],
      "authorship_tag": "ABX9TyPcyJlDBDOegCxti/HE4PLU",
      "include_colab_link": true
    },
    "kernelspec": {
      "name": "python3",
      "display_name": "Python 3"
    },
    "language_info": {
      "name": "python"
    }
  },
  "cells": [
    {
      "cell_type": "markdown",
      "metadata": {
        "id": "view-in-github",
        "colab_type": "text"
      },
      "source": [
        "<a href=\"https://colab.research.google.com/github/MatveyGolub/Matvey/blob/main/%D0%9D%D0%B5%D0%B4%D0%B5%D0%BB%D1%8F10%D0%9B%D0%A0.ipynb\" target=\"_parent\"><img src=\"https://colab.research.google.com/assets/colab-badge.svg\" alt=\"Open In Colab\"/></a>"
      ]
    },
    {
      "cell_type": "markdown",
      "source": [
        "Задача 1"
      ],
      "metadata": {
        "id": "0FU2VqWJnSG2"
      }
    },
    {
      "cell_type": "code",
      "execution_count": 5,
      "metadata": {
        "colab": {
          "base_uri": "https://localhost:8080/"
        },
        "id": "xofLa-t2eq49",
        "outputId": "5b8382d0-caf1-4b12-80e1-d8e74f5e4a21"
      },
      "outputs": [
        {
          "output_type": "stream",
          "name": "stdout",
          "text": [
            "1\n",
            "3\n",
            "5\n",
            "7\n",
            "8\n",
            "9\n",
            "0\n",
            "{1: 1, 3: 1, 5: 1, 7: 1, 8: 1, 9: 1}\n",
            "[1, 3, 5, 7, 8, 9]\n"
          ]
        }
      ],
      "source": [
        "c = {}\n",
        "val = []\n",
        "while True:\n",
        "  n = int(input())\n",
        "  if n == 0:\n",
        "    break\n",
        "  if n in c:\n",
        "    c[n] += 1\n",
        "  else:\n",
        "    c[n] = 1\n",
        "    val.append(n)\n",
        "result = c\n",
        "print(result)\n",
        "print(val)"
      ]
    },
    {
      "cell_type": "markdown",
      "source": [
        "Задача 2"
      ],
      "metadata": {
        "id": "mSUW4MVlsQjJ"
      }
    },
    {
      "cell_type": "code",
      "source": [
        "b = {}\n",
        "while True:\n",
        "  c = input(\"Введите команду add для записи; команду who для ввода Имени или команду exit для выхода:  \").strip().lower()\n",
        "  if c == \"exit\":\n",
        "    break\n",
        "  elif c == \"add\":\n",
        "    name = input(\"Введите имя для записи:\").strip()\n",
        "    namep = input(\"Введите номер телефона для записи:\").strip()\n",
        "    b[name] = namep\n",
        "    print()\n",
        "  elif c == \"who\":\n",
        "    name = input(\"Введите имя для поиска номера: \").strip()\n",
        "    if name in b:\n",
        "      print(f\"Номер телефона для {name}: {b[name]}\")\n",
        "    else:\n",
        "      print(f\"Запись для {name} отсутствует!\")\n",
        "  else:\n",
        "    print(\"Че за команда, йоу?\")"
      ],
      "metadata": {
        "colab": {
          "base_uri": "https://localhost:8080/"
        },
        "id": "AWbp-WG8sQ1B",
        "outputId": "a1bb802e-04e0-498f-f5b3-d862c7ccd86f"
      },
      "execution_count": 6,
      "outputs": [
        {
          "name": "stdout",
          "output_type": "stream",
          "text": [
            "Введите команду add для записи; команду who для ввода Имени или команду exit для выходаwho\n",
            "Введите имя для поиска номера: Олег\n",
            "Запись для Олег отсутствует!\n",
            "Введите команду add для записи; команду who для ввода Имени или команду exit для выходаadd\n",
            "Введите имя для записи:Олег\n",
            "Введите номер телефона для записи:88005554545\n",
            "\n",
            "Введите команду add для записи; команду who для ввода Имени или команду exit для выходаwho\n",
            "Введите имя для поиска номера: Олег\n",
            "Номер телефона для Олег: 88005554545\n",
            "Введите команду add для записи; команду who для ввода Имени или команду exit для выходаexit\n"
          ]
        }
      ]
    }
  ]
}