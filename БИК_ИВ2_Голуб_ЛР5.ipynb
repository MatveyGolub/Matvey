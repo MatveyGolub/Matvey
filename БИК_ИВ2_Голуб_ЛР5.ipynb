{
  "nbformat": 4,
  "nbformat_minor": 0,
  "metadata": {
    "colab": {
      "provenance": [],
      "authorship_tag": "ABX9TyPOrYUxZaZdlGD3r3OYtpYw",
      "include_colab_link": true
    },
    "kernelspec": {
      "name": "python3",
      "display_name": "Python 3"
    },
    "language_info": {
      "name": "python"
    }
  },
  "cells": [
    {
      "cell_type": "markdown",
      "metadata": {
        "id": "view-in-github",
        "colab_type": "text"
      },
      "source": [
        "<a href=\"https://colab.research.google.com/github/MatveyGolub/Matvey/blob/main/%D0%91%D0%98%D0%9A_%D0%98%D0%922_%D0%93%D0%BE%D0%BB%D1%83%D0%B1_%D0%9B%D0%A05.ipynb\" target=\"_parent\"><img src=\"https://colab.research.google.com/assets/colab-badge.svg\" alt=\"Open In Colab\"/></a>"
      ]
    },
    {
      "cell_type": "markdown",
      "source": [
        "Программа считывает числа с клавиатуры, пока не введен 0. После окончания ввода программа возвращает список, состоящий только из тех введенных чисел, которые больше 2, но меньше 5."
      ],
      "metadata": {
        "id": "QBE_xoEZRczC"
      }
    },
    {
      "cell_type": "code",
      "execution_count": 5,
      "metadata": {
        "colab": {
          "base_uri": "https://localhost:8080/"
        },
        "id": "jnSV0LgxL7br",
        "outputId": "ebf30ed2-5fb4-401e-dac1-be71a7715330"
      },
      "outputs": [
        {
          "output_type": "stream",
          "name": "stdout",
          "text": [
            "9\n",
            "8\n",
            "7\n",
            "6\n",
            "5\n",
            "4\n",
            "3\n",
            "2\n",
            "1\n",
            "0\n",
            "Cписок: [4.0, 3.0]\n"
          ]
        }
      ],
      "source": [
        "from ast import main\n",
        "arr = []\n",
        "while True:\n",
        "  n = float(input())\n",
        "  if n == 0:\n",
        "    break\n",
        "\n",
        "  if 2 < n < 5:\n",
        "    arr.append(n)\n",
        "print(\"Cписок:\", arr)\n",
        "\n"
      ]
    },
    {
      "cell_type": "markdown",
      "source": [
        "Модифицируйте предыдущую программу таким образом, чтобы найти среднее введенной ранее последовательности. Формула среднего:\n",
        "*сумма всех чисел/количество введенных чисел.*\n",
        "Встроенной функцией вычисления среднего пользоваться нельзя."
      ],
      "metadata": {
        "id": "b5q3tUsBVBqf"
      }
    },
    {
      "cell_type": "code",
      "source": [
        "arr = []\n",
        "while n != 0:\n",
        "  n = float(input())\n",
        "  if n == 0:\n",
        "    break\n",
        "  arr.append(n)\n",
        "  if len(arr) == 0:\n",
        "    print(\"-\")\n",
        "  else:\n",
        "    average = sum(arr)/len(arr)\n",
        "    print(\"Среднее введенной последовательности:\", average)\n"
      ],
      "metadata": {
        "id": "54ijRG1IdE9S"
      },
      "execution_count": null,
      "outputs": []
    }
  ]
}