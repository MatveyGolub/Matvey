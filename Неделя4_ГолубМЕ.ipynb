{
  "nbformat": 4,
  "nbformat_minor": 0,
  "metadata": {
    "colab": {
      "provenance": [],
      "authorship_tag": "ABX9TyNSwycb1IFUBKz30Y3+7dRt",
      "include_colab_link": true
    },
    "kernelspec": {
      "name": "python3",
      "display_name": "Python 3"
    },
    "language_info": {
      "name": "python"
    }
  },
  "cells": [
    {
      "cell_type": "markdown",
      "metadata": {
        "id": "view-in-github",
        "colab_type": "text"
      },
      "source": [
        "<a href=\"https://colab.research.google.com/github/MatveyGolub/Matvey/blob/main/%D0%9D%D0%B5%D0%B4%D0%B5%D0%BB%D1%8F4_%D0%93%D0%BE%D0%BB%D1%83%D0%B1%D0%9C%D0%95.ipynb\" target=\"_parent\"><img src=\"https://colab.research.google.com/assets/colab-badge.svg\" alt=\"Open In Colab\"/></a>"
      ]
    },
    {
      "cell_type": "markdown",
      "source": [
        "Задача №1"
      ],
      "metadata": {
        "id": "09elKTeSfeI6"
      }
    },
    {
      "cell_type": "code",
      "execution_count": null,
      "metadata": {
        "id": "q7wgcy2Wc85Q",
        "colab": {
          "base_uri": "https://localhost:8080/"
        },
        "outputId": "58ce04f8-db83-41d6-fa8b-a697432f7112"
      },
      "outputs": [
        {
          "output_type": "stream",
          "name": "stdout",
          "text": [
            "Введите натуральное число (не меньше 2): 3\n",
            "3\n"
          ]
        }
      ],
      "source": [
        "def smallest_divisor(n):\n",
        "  if n % 2 == 0:\n",
        "        return 2\n",
        "  for i in range(3, int(n**0.5) + 1, 2):\n",
        "    if n % i == 0:\n",
        "        return i\n",
        "  return n\n",
        "n = int(input(\"Введите натуральное число (не меньше 2): \"))\n",
        "print(smallest_divisor(n))"
      ]
    },
    {
      "cell_type": "markdown",
      "source": [
        "Задача №2"
      ],
      "metadata": {
        "id": "YT9Znknxfe3H"
      }
    },
    {
      "cell_type": "code",
      "source": [
        "def f(n):\n",
        "    if n == 0:\n",
        "        return 0\n",
        "    elif n == 1:\n",
        "        return 1\n",
        "\n",
        "    a, b = 0, 1\n",
        "    for _ in range(2, n + 1):\n",
        "        a, b = b, a + b\n",
        "    return b\n",
        "\n",
        "n = int(input(\"Введите натуральное число n: \"))\n",
        "print(f\"n-е число Фибоначчи: {f(n)}\")"
      ],
      "metadata": {
        "colab": {
          "base_uri": "https://localhost:8080/"
        },
        "id": "pfmGsysVfeh5",
        "outputId": "1ffdd950-d229-487b-80a0-3909917911ad"
      },
      "execution_count": null,
      "outputs": [
        {
          "output_type": "stream",
          "name": "stdout",
          "text": [
            "Введите натуральное число n: 1\n",
            "n-е число Фибоначчи: 1\n"
          ]
        }
      ]
    },
    {
      "cell_type": "markdown",
      "source": [
        "Задача №3"
      ],
      "metadata": {
        "id": "EyeOO2xLfi0-"
      }
    },
    {
      "cell_type": "code",
      "source": [
        "def sum_of_numbers():\n",
        "    total_sum = 0\n",
        "    while True:\n",
        "        number = int(input(\"Введите целое неотрицательное число (0 для завершения): \"))\n",
        "        if number == 0:\n",
        "            break\n",
        "        total_sum += number\n",
        "    print(f\"Сумма введенных чисел: {total_sum}\")\n",
        "sum_of_numbers()"
      ],
      "metadata": {
        "colab": {
          "base_uri": "https://localhost:8080/"
        },
        "id": "sx9OZaChff7Y",
        "outputId": "c4dbb158-a721-4969-9bb0-19b4505c7b7a"
      },
      "execution_count": null,
      "outputs": [
        {
          "output_type": "stream",
          "name": "stdout",
          "text": [
            "Введите целое неотрицательное число (0 для завершения): 7\n",
            "Введите целое неотрицательное число (0 для завершения): 5\n",
            "Введите целое неотрицательное число (0 для завершения): 8\n",
            "Введите целое неотрицательное число (0 для завершения): 0\n",
            "Сумма введенных чисел: 20\n"
          ]
        }
      ]
    },
    {
      "cell_type": "markdown",
      "source": [
        "Задача №4"
      ],
      "metadata": {
        "id": "5sURJ-b4f9yF"
      }
    },
    {
      "cell_type": "code",
      "source": [
        "def count_increasing_elements():\n",
        "    previous_n = None\n",
        "    count = 0\n",
        "    while True:\n",
        "        num = int(input(\"Введите натуральное число (0 для завершения): \"))\n",
        "        if num == 0:\n",
        "            break\n",
        "        if previous_n is not None and num > previous_n:\n",
        "            count += 1\n",
        "        previous_n = num\n",
        "    print(f\"Количество элементов, больших предыдущего: {count}\")\n",
        "count_increasing_elements()"
      ],
      "metadata": {
        "colab": {
          "base_uri": "https://localhost:8080/"
        },
        "id": "cOMdzw7kgBYQ",
        "outputId": "7372f7f4-b7f6-4115-a20a-a6cc61d28669"
      },
      "execution_count": null,
      "outputs": [
        {
          "output_type": "stream",
          "name": "stdout",
          "text": [
            "Введите натуральное число (0 для завершения): 6\n",
            "Введите натуральное число (0 для завершения): 7\n",
            "Введите натуральное число (0 для завершения): 8\n",
            "Введите натуральное число (0 для завершения): 9\n",
            "Введите натуральное число (0 для завершения): 0\n",
            "Количество элементов, больших предыдущего: 3\n"
          ]
        }
      ]
    },
    {
      "cell_type": "markdown",
      "source": [
        "Задача №5"
      ],
      "metadata": {
        "id": "E7qBHff-gCN2"
      }
    },
    {
      "cell_type": "code",
      "source": [
        "def find_second_max():\n",
        "    max_number = None\n",
        "    second_max_number = None\n",
        "    while True:\n",
        "        number = int(input(\"Введите натуральное число (0 для завершения): \"))\n",
        "        if number == 0:\n",
        "            break\n",
        "        if max_number is None or number > max_number:\n",
        "            second_max_number = max_number\n",
        "            max_number = number\n",
        "        elif second_max_number is None or (number > second_max_number and number < max_number):\n",
        "            second_max_number = number\n",
        "    if second_max_number is not None:\n",
        "        print(f\"Второй по величине элемент: {second_max_number}\")\n",
        "    else:\n",
        "        print(\"Нет второго по величине элемента.\")\n",
        "find_second_max()"
      ],
      "metadata": {
        "id": "HMt8NdbngFrz"
      },
      "execution_count": null,
      "outputs": []
    },
    {
      "cell_type": "markdown",
      "source": [
        "Задача №6"
      ],
      "metadata": {
        "id": "KnNxzadugGJs"
      }
    },
    {
      "cell_type": "code",
      "source": [
        "def rev_bin_rep(N):\n",
        "    bin_rep = bin(N)[2:]\n",
        "    rev_bin = bin_rep[::-1]\n",
        "    return rev_bin\n",
        "N = int(input(\"Введите натуральное число N: \"))\n",
        "if N <= 0:\n",
        "    print(\"Пожалуйста, введите натуральное число больше нуля.\")\n",
        "else:\n",
        "    res = rev_bin_rep(N)\n",
        "    print(f\"Двоичное представление числа {N} в обратном порядке: {res}\")"
      ],
      "metadata": {
        "colab": {
          "base_uri": "https://localhost:8080/"
        },
        "id": "zWZpNJmvgJGk",
        "outputId": "fdf57548-b3b8-471e-f98e-7f7c07860ed3"
      },
      "execution_count": null,
      "outputs": [
        {
          "output_type": "stream",
          "name": "stdout",
          "text": [
            "Введите натуральное число N: 26\n",
            "Двоичное представление числа 26 в обратном порядке: 01011\n"
          ]
        }
      ]
    },
    {
      "cell_type": "markdown",
      "source": [
        "Задача №7"
      ],
      "metadata": {
        "id": "sSmTvpSogM8_"
      }
    },
    {
      "cell_type": "code",
      "source": [
        "def is_pal(n):\n",
        "    return str(n) == str(n)[::-1]\n",
        "def count_pal(K):\n",
        "    count = 0\n",
        "    for i in range(1, K + 1):\n",
        "        if is_pal(i):\n",
        "            count += 1\n",
        "    return count\n",
        "K = int(input(\"Введите натуральное число K (1 ≤ K ≤ 100000): \"))\n",
        "if 1 <= K <= 100000:\n",
        "    res = count_pal(K)\n",
        "    print(f\"Количество натуральных палиндромов, не превосходящих {K}: {res}\")\n",
        "else:\n",
        "    print(\"Пожалуйста, введите число в пределах от 1 до 100000.\")\n"
      ],
      "metadata": {
        "colab": {
          "base_uri": "https://localhost:8080/"
        },
        "id": "zq0wUiaqgNWp",
        "outputId": "ec8f4fad-3b13-47bc-cc9e-f7cb71bcfbb1"
      },
      "execution_count": null,
      "outputs": [
        {
          "output_type": "stream",
          "name": "stdout",
          "text": [
            "Введите натуральное число K (1 ≤ K ≤ 100000): 86567\n",
            "Количество натуральных палиндромов, не превосходящих 86567: 963\n"
          ]
        }
      ]
    },
    {
      "cell_type": "markdown",
      "source": [
        "Задача №8"
      ],
      "metadata": {
        "id": "I8iSuToCgNkB"
      }
    },
    {
      "cell_type": "code",
      "source": [
        "def gen_seq(seconds):\n",
        "    seq = []\n",
        "    cur_num = 1\n",
        "    while len(seq) < seconds:\n",
        "        seq.extend([cur_num] * cur_num)\n",
        "        cur_num += 1\n",
        "    return seq[:seconds]\n",
        "seconds = int(input(\"Введите количество секунд (1 ≤ seconds ≤ 1000000): \"))\n",
        "if 1 <= seconds <= 1000000:\n",
        "    result = gen_seq(seconds)\n",
        "    print(\"Результат работы генератора:\")\n",
        "    print(' '.join(map(str, result)))\n",
        "else:\n",
        "    print(\"Пожалуйста, введите число в пределах от 1 до 1000000.\")"
      ],
      "metadata": {
        "colab": {
          "base_uri": "https://localhost:8080/"
        },
        "id": "AUL5AZFDgNrm",
        "outputId": "3636c2a9-5185-494b-da01-911b7d49e0df"
      },
      "execution_count": null,
      "outputs": [
        {
          "output_type": "stream",
          "name": "stdout",
          "text": [
            "Введите количество секунд (1 ≤ seconds ≤ 1000000): 50\n",
            "Результат работы генератора:\n",
            "1 2 2 3 3 3 4 4 4 4 5 5 5 5 5 6 6 6 6 6 6 7 7 7 7 7 7 7 8 8 8 8 8 8 8 8 9 9 9 9 9 9 9 9 9 10 10 10 10 10\n"
          ]
        }
      ]
    },
    {
      "cell_type": "markdown",
      "source": [
        "Задача №9"
      ],
      "metadata": {
        "id": "z7FhgyR9gNyk"
      }
    },
    {
      "cell_type": "code",
      "source": [
        "a = float(input(\"Введите действительное число a: \"))\n",
        "n = int(input(\"Введите натуральное число n: \"))\n",
        "sum_res = 0\n",
        "cur_term = 1\n",
        "for i in range(n + 1):\n",
        "    sum_res += cur_term\n",
        "    cur_term *= a\n",
        "print(\"Сумма S =\", sum_res)"
      ],
      "metadata": {
        "id": "fz3IqxF5gN4u",
        "colab": {
          "base_uri": "https://localhost:8080/"
        },
        "outputId": "a42fd885-c02b-4b11-d5fb-641399f14ba3"
      },
      "execution_count": 20,
      "outputs": [
        {
          "output_type": "stream",
          "name": "stdout",
          "text": [
            "Введите действительное число a: 5\n",
            "Введите натуральное число n: 2\n",
            "Сумма S = 31.0\n"
          ]
        }
      ]
    },
    {
      "cell_type": "markdown",
      "source": [
        "Задачa №10"
      ],
      "metadata": {
        "id": "C_uf-QJcgN-v"
      }
    },
    {
      "cell_type": "code",
      "source": [
        "x = int(input(\"Введите сумму вклада: \"))\n",
        "p = int(input(\"Введите процент увеличения: \"))\n",
        "y = int(input(\"Введите целевую сумму: \"))\n",
        "years = 0\n",
        "while x < y:\n",
        "    x += x * p // 100\n",
        "    years += 1\n",
        "print(years)"
      ],
      "metadata": {
        "id": "UW1tk6YjgOEl",
        "colab": {
          "base_uri": "https://localhost:8080/"
        },
        "outputId": "e01e1c14-3bd8-4b8c-898c-59b6fd5aae4f"
      },
      "execution_count": null,
      "outputs": [
        {
          "output_type": "stream",
          "name": "stdout",
          "text": [
            "Введите сумму вклада: 35000\n",
            "Введите процент увеличения: 20\n",
            "Введите целевую сумму: 70000\n",
            "4\n"
          ]
        }
      ]
    },
    {
      "cell_type": "markdown",
      "source": [
        "Задача №11"
      ],
      "metadata": {
        "id": "yb_XtvYDgOLd"
      }
    },
    {
      "cell_type": "code",
      "source": [
        "N = int(input(\"Введите натуральное число N: \"))\n",
        "cur_pow = 1\n",
        "while cur_pow <= N:\n",
        "    print(cur_pow)\n",
        "    cur_pow *= 2"
      ],
      "metadata": {
        "id": "j6LGFRcQgORZ",
        "colab": {
          "base_uri": "https://localhost:8080/"
        },
        "outputId": "d7453499-f6f8-46d7-f4c0-c6c159276313"
      },
      "execution_count": 19,
      "outputs": [
        {
          "output_type": "stream",
          "name": "stdout",
          "text": [
            "Введите натуральное число N: 2\n",
            "1\n",
            "2\n"
          ]
        }
      ]
    },
    {
      "cell_type": "markdown",
      "source": [
        "Задача №12"
      ],
      "metadata": {
        "id": "6G3OqdEvgOXX"
      }
    },
    {
      "cell_type": "code",
      "source": [
        "N = int(input(\"Введите количество чисел N: \"))\n",
        "count_z = 0\n",
        "count_p = 0\n",
        "count_n = 0\n",
        "for _ in range(N):\n",
        "    number = int(input(\"Введите целое число: \"))\n",
        "\n",
        "    if number == 0:\n",
        "        count_z += 1\n",
        "    elif number > 0:\n",
        "        count_p += 1\n",
        "    else:\n",
        "        count_n += 1\n",
        "print(count_z, count_p, count_n)"
      ],
      "metadata": {
        "id": "X5bFnyK3gOdA",
        "colab": {
          "base_uri": "https://localhost:8080/"
        },
        "outputId": "94d12f33-f11d-490c-bd48-6a18ceaafbf2"
      },
      "execution_count": 21,
      "outputs": [
        {
          "output_type": "stream",
          "name": "stdout",
          "text": [
            "Введите количество чисел N: 6\n",
            "Введите целое число: 2\n",
            "Введите целое число: 4\n",
            "Введите целое число: 3\n",
            "Введите целое число: 0\n",
            "Введите целое число: 7\n",
            "Введите целое число: 5\n",
            "1 5 0\n"
          ]
        }
      ]
    },
    {
      "cell_type": "markdown",
      "source": [
        "Задача №13"
      ],
      "metadata": {
        "id": "sR3H6NqUgOjp"
      }
    },
    {
      "cell_type": "code",
      "source": [
        "u = input(\"Введите массив: \")\n",
        "sheep_array = eval(u)\n",
        "count_sheep = sheep_array.count(True)\n",
        "print(\"Количество овец:\", count_sheep)"
      ],
      "metadata": {
        "id": "RGBKMuShgOou",
        "colab": {
          "base_uri": "https://localhost:8080/"
        },
        "outputId": "f693041d-0500-432f-dc01-807141f49e09"
      },
      "execution_count": 23,
      "outputs": [
        {
          "output_type": "stream",
          "name": "stdout",
          "text": [
            "Введите массив: [True, False, True]\n",
            "Количество овец: 2\n"
          ]
        }
      ]
    },
    {
      "cell_type": "markdown",
      "source": [
        "Задача №14"
      ],
      "metadata": {
        "id": "NJFhrCWHgmNV"
      }
    },
    {
      "cell_type": "code",
      "source": [
        "def transform(A, B):\n",
        "    commands = []\n",
        "    while A > B:\n",
        "        if B % 2 == 0:\n",
        "            commands.append(\":2\")\n",
        "            B *= 2\n",
        "        else:\n",
        "            commands.append(\"-1\")\n",
        "            B += 1\n",
        "    while B > A:\n",
        "        commands.append(\"-1\")\n",
        "        B -= 1\n",
        "    return commands\n",
        "A = int(input(\"Введите A (A > B): \"))\n",
        "B = int(input(\"Введите B: \"))\n",
        "commands = transform(A, B)\n",
        "for command in commands:\n",
        "    print(command)"
      ],
      "metadata": {
        "id": "WlSekd8Ugmas",
        "colab": {
          "base_uri": "https://localhost:8080/"
        },
        "outputId": "7126b544-301c-4bb0-cce6-ba6e4e3146c0"
      },
      "execution_count": 24,
      "outputs": [
        {
          "output_type": "stream",
          "name": "stdout",
          "text": [
            "Введите A (A > B): 30\n",
            "Введите B: 6\n",
            ":2\n",
            ":2\n",
            ":2\n",
            "-1\n",
            "-1\n",
            "-1\n",
            "-1\n",
            "-1\n",
            "-1\n",
            "-1\n",
            "-1\n",
            "-1\n",
            "-1\n",
            "-1\n",
            "-1\n",
            "-1\n",
            "-1\n",
            "-1\n",
            "-1\n",
            "-1\n",
            "-1\n"
          ]
        }
      ]
    }
  ]
}