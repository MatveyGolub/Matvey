{
  "nbformat": 4,
  "nbformat_minor": 0,
  "metadata": {
    "colab": {
      "provenance": [],
      "authorship_tag": "ABX9TyN8iLQS7BJJhIBZJ8iCxoM9",
      "include_colab_link": true
    },
    "kernelspec": {
      "name": "python3",
      "display_name": "Python 3"
    },
    "language_info": {
      "name": "python"
    }
  },
  "cells": [
    {
      "cell_type": "markdown",
      "metadata": {
        "id": "view-in-github",
        "colab_type": "text"
      },
      "source": [
        "<a href=\"https://colab.research.google.com/github/MatveyGolub/Matvey/blob/main/%D0%91%D0%98%D0%9A_24_%D0%98%D0%92_%D0%93%D0%BE%D0%BB%D1%83%D0%B1%D0%9B%D0%A08.ipynb\" target=\"_parent\"><img src=\"https://colab.research.google.com/assets/colab-badge.svg\" alt=\"Open In Colab\"/></a>"
      ]
    },
    {
      "cell_type": "markdown",
      "source": [
        "Задание №1"
      ],
      "metadata": {
        "id": "5XFuoMQDaKs5"
      }
    },
    {
      "cell_type": "code",
      "execution_count": 15,
      "metadata": {
        "id": "Rt7BwlFWYxSm",
        "colab": {
          "base_uri": "https://localhost:8080/"
        },
        "outputId": "8960e44a-b887-4b12-be6c-d6c79fc2baaa"
      },
      "outputs": [
        {
          "output_type": "stream",
          "name": "stdout",
          "text": [
            "3\n",
            "Матрица:\n",
            "[1, 2, 3]\n",
            "[4, 5, 6]\n",
            "[7, 8, 9]\n",
            "Определитель:1\n"
          ]
        }
      ],
      "source": [
        "def c_matrix(n):\n",
        "  matrix = []\n",
        "  cur_num = 1\n",
        "  for i in range(n):\n",
        "    raw = []\n",
        "    for j in range(n):\n",
        "      raw.append(cur_num)\n",
        "      cur_num += 1\n",
        "    matrix.append(raw)\n",
        "  return matrix\n",
        "def pr_matrix(matrix):\n",
        "  for raw in matrix:\n",
        "    print(raw)\n",
        "def cal_matrix(matrix):\n",
        "  n = len(matrix)\n",
        "  if n == 1:\n",
        "    return matrix [0][0]\n",
        "  elif n == 2:\n",
        "    return matrix [0][0] * matrix[1][1] - matrix [0][1] * matrix [1][0]\n",
        "  m = 0\n",
        "  for a in range(n):\n",
        "    sm = [raw[:a] + raw[a+1:] for raw in matrix[1:]]\n",
        "    m += ((-1) ** a) * matrix[0][a]\n",
        "    cal_matrix(sm)\n",
        "    return m\n",
        "def main():\n",
        "  n = int(input())\n",
        "  res_matrix = c_matrix(n)\n",
        "  print(\"Матрица:\")\n",
        "  pr_matrix(res_matrix)\n",
        "  m = cal_matrix(res_matrix)\n",
        "  print(f\"Определитель:{m}\")\n",
        "if __name__ == \"__main__\":\n",
        "  main()\n",
        "\n",
        "\n"
      ]
    },
    {
      "cell_type": "markdown",
      "source": [
        "Задание №2"
      ],
      "metadata": {
        "id": "OL8XCZ12oT3S"
      }
    },
    {
      "cell_type": "code",
      "source": [],
      "metadata": {
        "id": "a4fG7MoUoUE3"
      },
      "execution_count": null,
      "outputs": []
    }
  ]
}