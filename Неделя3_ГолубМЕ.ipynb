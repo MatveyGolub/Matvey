{
  "nbformat": 4,
  "nbformat_minor": 0,
  "metadata": {
    "colab": {
      "provenance": [],
      "authorship_tag": "ABX9TyOPVZGcY4REZsjGxC5Loi21",
      "include_colab_link": true
    },
    "kernelspec": {
      "name": "python3",
      "display_name": "Python 3"
    },
    "language_info": {
      "name": "python"
    }
  },
  "cells": [
    {
      "cell_type": "markdown",
      "metadata": {
        "id": "view-in-github",
        "colab_type": "text"
      },
      "source": [
        "<a href=\"https://colab.research.google.com/github/MatveyGolub/Matvey/blob/main/%D0%9D%D0%B5%D0%B4%D0%B5%D0%BB%D1%8F3_%D0%93%D0%BE%D0%BB%D1%83%D0%B1%D0%9C%D0%95.ipynb\" target=\"_parent\"><img src=\"https://colab.research.google.com/assets/colab-badge.svg\" alt=\"Open In Colab\"/></a>"
      ]
    },
    {
      "cell_type": "markdown",
      "source": [
        "Задача №1"
      ],
      "metadata": {
        "id": "FR_TyGDu20Vc"
      }
    },
    {
      "cell_type": "code",
      "source": [
        "a = input(\"Введите строку a: \")\n",
        "b = input(\"Введите строку b: \")\n",
        "\n",
        "a_lower = a.lower()\n",
        "b_lower = b.lower()\n",
        "\n",
        "index = a_lower.find(b_lower)\n",
        "\n",
        "if index != -1:\n",
        "    substring = a[index:index + len(b)]\n",
        "    print(index)\n",
        "    print(substring)"
      ],
      "metadata": {
        "id": "hgTN-n7F21Cd",
        "colab": {
          "base_uri": "https://localhost:8080/"
        },
        "outputId": "0080e1b5-c740-4294-d77c-cddbc2858e76"
      },
      "execution_count": 6,
      "outputs": [
        {
          "output_type": "stream",
          "name": "stdout",
          "text": [
            "Введите строку a: Привет, мир, пока\n",
            "Введите строку b: Мир\n",
            "8\n",
            "мир\n"
          ]
        }
      ]
    },
    {
      "cell_type": "markdown",
      "source": [
        "Задача №2"
      ],
      "metadata": {
        "id": "vRkfIKdk21ON"
      }
    },
    {
      "cell_type": "code",
      "source": [
        "a = input(\"Введите строку: \")\n",
        "\n",
        "substrings = a.split(',')\n",
        "\n",
        "lengths = [len(substring) for substring in substrings]\n",
        "\n",
        "print(','.join(map(str, lengths)))"
      ],
      "metadata": {
        "id": "7f71yxDa21YT",
        "colab": {
          "base_uri": "https://localhost:8080/"
        },
        "outputId": "0933d6fb-a394-4858-9d97-98476dc5229e"
      },
      "execution_count": 5,
      "outputs": [
        {
          "output_type": "stream",
          "name": "stdout",
          "text": [
            "Введите строку: аббв\n",
            "4\n"
          ]
        }
      ]
    },
    {
      "cell_type": "markdown",
      "source": [
        "Задача №3"
      ],
      "metadata": {
        "id": "bRRzUjmg21h-"
      }
    },
    {
      "cell_type": "code",
      "source": [
        "stroka = input(\"Введите строку: \")\n",
        "n = int(input(\"Введите индекс n: \"))\n",
        "m = int(input(\"Введите индекс m: \"))\n",
        "\n",
        "words = ''.join(char if char.isalnum() or char.isspace() else ' ' for char in stroka).split()\n",
        "\n",
        "array_to_n = words[:n]\n",
        "\n",
        "array_from_m = words[m:]\n",
        "\n",
        "print(array_to_n, array_from_m)"
      ],
      "metadata": {
        "id": "5SlLaK95211Q",
        "colab": {
          "base_uri": "https://localhost:8080/"
        },
        "outputId": "86372fe9-4f8d-4aa9-83d0-a23545ca77ff"
      },
      "execution_count": 8,
      "outputs": [
        {
          "output_type": "stream",
          "name": "stdout",
          "text": [
            "Введите строку: Привет, мир \n",
            "Введите индекс n: 8\n",
            "Введите индекс m: 5\n",
            "['Привет', 'мир'] []\n"
          ]
        }
      ]
    }
  ]
}