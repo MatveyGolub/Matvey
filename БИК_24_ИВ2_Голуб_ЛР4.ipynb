{
  "nbformat": 4,
  "nbformat_minor": 0,
  "metadata": {
    "colab": {
      "provenance": [],
      "authorship_tag": "ABX9TyMJN8K3qBTMM5escvjKSpea",
      "include_colab_link": true
    },
    "kernelspec": {
      "name": "python3",
      "display_name": "Python 3"
    },
    "language_info": {
      "name": "python"
    }
  },
  "cells": [
    {
      "cell_type": "markdown",
      "metadata": {
        "id": "view-in-github",
        "colab_type": "text"
      },
      "source": [
        "<a href=\"https://colab.research.google.com/github/MatveyGolub/Matvey/blob/main/%D0%91%D0%98%D0%9A_24_%D0%98%D0%922_%D0%93%D0%BE%D0%BB%D1%83%D0%B1_%D0%9B%D0%A04.ipynb\" target=\"_parent\"><img src=\"https://colab.research.google.com/assets/colab-badge.svg\" alt=\"Open In Colab\"/></a>"
      ]
    },
    {
      "cell_type": "markdown",
      "source": [
        "Найти все коды ошибок веб-браузера от 400 до 405. Код ошибки вводится с клавиатуры и программа выводит описание соответствующего кода ошибки."
      ],
      "metadata": {
        "id": "d_UqmuP-LKP8"
      }
    },
    {
      "cell_type": "code",
      "source": [
        "a = int(input())\n",
        "match a:\n",
        "  case 400:\n",
        "    print(\"Неправильный запрос\")\n",
        "  case 401:\n",
        "    print(\"Unauthorized\")\n",
        "  case 402:\n",
        "    print(\"Payment Required\")\n",
        "  case 403:\n",
        "    print(\"Forbidden\")\n",
        "  case 404:\n",
        "    print(\"NotFound\")\n",
        "  case 405:\n",
        "    print(\"Method Not Allowed\")\n",
        "  case _:\n",
        "    print(\"Other\")"
      ],
      "metadata": {
        "colab": {
          "base_uri": "https://localhost:8080/"
        },
        "id": "HJ6D0k9xLLZa",
        "outputId": "92d28682-ae18-4b03-a937-89bf1fce39e7"
      },
      "execution_count": 5,
      "outputs": [
        {
          "output_type": "stream",
          "name": "stdout",
          "text": [
            "500\n",
            "Other\n"
          ]
        }
      ]
    },
    {
      "cell_type": "markdown",
      "source": [
        "С клавиатуры вводятся два числа - координаты точки x и y. Определите, в какой четверти координатной плоскости лежит точка. При решении задачи следует использовать условные конструкции."
      ],
      "metadata": {
        "id": "Ov8t4worPDYv"
      }
    },
    {
      "cell_type": "code",
      "source": [
        "a = int(input())\n",
        "b = int(input())\n",
        "if (a > 0 and b > 0):\n",
        "  print(\"Точка в первой четверти\")\n",
        "if (a < 0 and b > 0):\n",
        "  print(\"Точка во второй четверти\")\n",
        "if (a < 0 and b < 0):\n",
        "  print(\"Точка в третьей четверти\")\n",
        "if (a > 0 and b < 0):\n",
        "  print(\"Точка в четвертой четверти\")\n"
      ],
      "metadata": {
        "colab": {
          "base_uri": "https://localhost:8080/"
        },
        "id": "F16VXc8gPtv8",
        "outputId": "0ed4e1d5-6d96-40cb-e70e-d42b1b4ba69a"
      },
      "execution_count": 9,
      "outputs": [
        {
          "output_type": "stream",
          "name": "stdout",
          "text": [
            "50\n",
            "100\n",
            "Точка в первой четверти\n"
          ]
        }
      ]
    },
    {
      "cell_type": "markdown",
      "source": [
        "С клавиатуры вводится год. Определите, является ли год високосным. Если год высокосный выведите ДА, иначе выведите НЕТ. Високосным считается год, кратный четырем без остатка, но если это первый год столетия (1700,1800), то он должен быть кратен 400 без остатка."
      ],
      "metadata": {
        "id": "ZJJ9scaVSxMO"
      }
    },
    {
      "cell_type": "code",
      "source": [
        "b = int(input(\"Введите год:\"))\n",
        "if (b % 4 != 0):\n",
        "  print(\"Год не является високосным\")\n",
        "\n",
        "elif (b % 100 == 0 and b % 400 == 0):\n",
        "  print(\"Год является високосным\")\n",
        "else:\n",
        "  print(\"Год является високосным\")\n",
        "\n",
        ""
      ],
      "metadata": {
        "colab": {
          "base_uri": "https://localhost:8080/"
        },
        "id": "hk1Osv8DT7eM",
        "outputId": "d843de02-31d7-4b7d-a6c3-d566441b013f"
      },
      "execution_count": 24,
      "outputs": [
        {
          "output_type": "stream",
          "name": "stdout",
          "text": [
            "Введите год:2024\n",
            "Год является високосным\n"
          ]
        }
      ]
    }
  ]
}