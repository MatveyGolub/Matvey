{
  "nbformat": 4,
  "nbformat_minor": 0,
  "metadata": {
    "colab": {
      "provenance": [],
      "authorship_tag": "ABX9TyMZWz2MqHG9O++a2eU/FIzF",
      "include_colab_link": true
    },
    "kernelspec": {
      "name": "python3",
      "display_name": "Python 3"
    },
    "language_info": {
      "name": "python"
    }
  },
  "cells": [
    {
      "cell_type": "markdown",
      "metadata": {
        "id": "view-in-github",
        "colab_type": "text"
      },
      "source": [
        "<a href=\"https://colab.research.google.com/github/MatveyGolub/Matvey/blob/main/%D0%9B%D0%A010.ipynb\" target=\"_parent\"><img src=\"https://colab.research.google.com/assets/colab-badge.svg\" alt=\"Open In Colab\"/></a>"
      ]
    },
    {
      "cell_type": "markdown",
      "source": [
        "Задача №1"
      ],
      "metadata": {
        "id": "w9vfhse_pQcs"
      }
    },
    {
      "cell_type": "code",
      "execution_count": 4,
      "metadata": {
        "colab": {
          "base_uri": "https://localhost:8080/"
        },
        "id": "ZIfujgT0hZ9-",
        "outputId": "f750c919-aa42-4239-9eff-9d130bdcf0eb"
      },
      "outputs": [
        {
          "output_type": "stream",
          "name": "stdout",
          "text": [
            "1\n",
            "4\n",
            "6\n",
            "7\n",
            "0\n",
            "{18}\n"
          ]
        }
      ],
      "source": [
        "def summ_num(numb):\n",
        "  n = sum(numb)\n",
        "  return n\n",
        "numb = []\n",
        "while True:\n",
        "  try:\n",
        "    num = int(input())\n",
        "    if num == 0:\n",
        "      break\n",
        "    numb.append(num)\n",
        "  except ValueError:\n",
        "    print(\"Введите корректное число\")\n",
        "result = summ_num(numb)\n",
        "print(result)\n"
      ]
    }
  ]
}