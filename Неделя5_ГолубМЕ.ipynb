{
  "nbformat": 4,
  "nbformat_minor": 0,
  "metadata": {
    "colab": {
      "provenance": [],
      "authorship_tag": "ABX9TyOVrC8UhSbr31bk4JtXHlRZ",
      "include_colab_link": true
    },
    "kernelspec": {
      "name": "python3",
      "display_name": "Python 3"
    },
    "language_info": {
      "name": "python"
    }
  },
  "cells": [
    {
      "cell_type": "markdown",
      "metadata": {
        "id": "view-in-github",
        "colab_type": "text"
      },
      "source": [
        "<a href=\"https://colab.research.google.com/github/MatveyGolub/Matvey/blob/main/%D0%9D%D0%B5%D0%B4%D0%B5%D0%BB%D1%8F5_%D0%93%D0%BE%D0%BB%D1%83%D0%B1%D0%9C%D0%95.ipynb\" target=\"_parent\"><img src=\"https://colab.research.google.com/assets/colab-badge.svg\" alt=\"Open In Colab\"/></a>"
      ]
    },
    {
      "cell_type": "markdown",
      "source": [
        "Задача №1"
      ],
      "metadata": {
        "id": "U3svDfANRe_L"
      }
    },
    {
      "cell_type": "code",
      "source": [
        "n = input()\n",
        "numbers = n.split()\n",
        "seen_num = set()\n",
        "for number in numbers:\n",
        "    if number in seen_num:\n",
        "        print(\"YES\")\n",
        "    else:\n",
        "        print(\"NO\")\n",
        "        seen_num.add(number)"
      ],
      "metadata": {
        "id": "lOfHikcwRg9o",
        "colab": {
          "base_uri": "https://localhost:8080/"
        },
        "outputId": "8809d20a-2f43-4636-b1ac-1fd2c6a2ef86"
      },
      "execution_count": 18,
      "outputs": [
        {
          "output_type": "stream",
          "name": "stdout",
          "text": [
            "3 5 7 8 7 5 3\n",
            "NO\n",
            "NO\n",
            "NO\n",
            "NO\n",
            "YES\n",
            "YES\n",
            "YES\n"
          ]
        }
      ]
    },
    {
      "cell_type": "markdown",
      "source": [
        "Задача №2"
      ],
      "metadata": {
        "id": "61e_wckyRf0f"
      }
    },
    {
      "cell_type": "code",
      "source": [
        "from collections import defaultdict, deque\n",
        "N = int(input().strip())\n",
        "M = int(input().strip())\n",
        "\n",
        "line_to_stations = defaultdict(set)\n",
        "station_to_lines = defaultdict(set)\n",
        "for line_id in range(M):\n",
        "    line_info = list(map(int, input().strip().split()))\n",
        "    Pi = line_info[0]\n",
        "    stations = line_info[1:]\n",
        "    for station in stations:\n",
        "        line_to_stations[line_id].add(station)\n",
        "        station_to_lines[station].add(line_id)\n",
        "A, B = map(int, input().strip().split())\n",
        "queue = deque()\n",
        "visited = set()\n",
        "for line in station_to_lines[A]:\n",
        "    queue.append((A, line, 0))\n",
        "    visited.add((A, line))\n",
        "while queue:\n",
        "    current_station, current_line, transfers = queue.popleft()\n",
        "    if current_station == B:\n",
        "        print(transfers)\n",
        "        break\n",
        "    for next_station in line_to_stations[current_line]:\n",
        "        if (next_station, current_line) not in visited:\n",
        "            visited.add((next_station, current_line))\n",
        "            queue.append((next_station, current_line, transfers))\n",
        "    for next_line in station_to_lines[current_station]:\n",
        "        if next_line != current_line:\n",
        "            for next_station in line_to_stations[next_line]:\n",
        "                if (next_station, next_line) not in visited:\n",
        "                    visited.add((next_station, next_line))\n",
        "                    queue.append((next_station, next_line, transfers + 1))\n",
        "else:\n",
        "    print(-1)"
      ],
      "metadata": {
        "id": "U_fHBPNeRf7c",
        "colab": {
          "base_uri": "https://localhost:8080/"
        },
        "outputId": "a25e6dec-eb9c-477a-feab-43e4831fd58a"
      },
      "execution_count": 19,
      "outputs": [
        {
          "output_type": "stream",
          "name": "stdout",
          "text": [
            "5\n",
            "3\n",
            "3 1 2 3\n",
            "2 3 4\n",
            "2 4 5\n",
            "1 5\n",
            "2\n"
          ]
        }
      ]
    },
    {
      "cell_type": "markdown",
      "source": [
        "Задача №3"
      ],
      "metadata": {
        "id": "HXKU74THRgBo"
      }
    },
    {
      "cell_type": "code",
      "source": [
        "N = int(input().strip())\n",
        "city_to_country = {}\n",
        "for _ in range(N):\n",
        "    data = input().strip().split()\n",
        "    country = data[0]\n",
        "    cities = data[1:]\n",
        "    for city in cities:\n",
        "        city_to_country[city] = country\n",
        "M = int(input().strip())\n",
        "for _ in range(M):\n",
        "    query_city = input().strip()\n",
        "    if query_city in city_to_country:\n",
        "        print(city_to_country[query_city])\n",
        "    else:\n",
        "        print(\"Город не найден\")"
      ],
      "metadata": {
        "id": "J51e7PCiRgIJ",
        "colab": {
          "base_uri": "https://localhost:8080/"
        },
        "outputId": "071f3f3f-97df-4d97-89bf-93af67a081da"
      },
      "execution_count": 20,
      "outputs": [
        {
          "output_type": "stream",
          "name": "stdout",
          "text": [
            "3\n",
            "Россия Владивосток Москва Самара\n",
            "Казахстан Астана Алматы Шымкент\n",
            "Беларусь Минск Гродно Брест\n",
            "5\n",
            "Москва\n",
            "Россия\n",
            "Минск\n",
            "Беларусь\n",
            "Астана\n",
            "Казахстан\n",
            "Париж\n",
            "Город не найден\n",
            "Гродно\n",
            "Беларусь\n"
          ]
        }
      ]
    },
    {
      "cell_type": "markdown",
      "source": [
        "Задание №4"
      ],
      "metadata": {
        "id": "EGXzR_jflt8g"
      }
    },
    {
      "cell_type": "code",
      "source": [
        "votes = {}\n",
        "try:\n",
        "    while True:\n",
        "        line = input().strip()\n",
        "        if not line:\n",
        "            break\n",
        "        parts = line.split()\n",
        "        can = parts[0]\n",
        "        count = int(parts[1])\n",
        "\n",
        "        if can in votes:\n",
        "            votes[can] += count\n",
        "        else:\n",
        "            votes[can] = count\n",
        "except EOFError:\n",
        "    pass\n",
        "sorted_can = sorted(votes.keys())\n",
        "for can in sorted_can:\n",
        "    print(can, votes[can])"
      ],
      "metadata": {
        "id": "VIFMyLJgn4lD",
        "colab": {
          "base_uri": "https://localhost:8080/"
        },
        "outputId": "11db7ae9-db0e-4347-c4d5-57b49034f0e4"
      },
      "execution_count": 21,
      "outputs": [
        {
          "output_type": "stream",
          "name": "stdout",
          "text": [
            "Белецкий 1\n",
            "Росляков 523\n",
            "Дьяченко 267\n",
            "Голуб 298\n",
            "Порубов 459\n",
            "Голуб 60\n",
            "Росляков 130\n",
            "Белецкий 2\n",
            "\n",
            "Белецкий 3\n",
            "Голуб 358\n",
            "Дьяченко 267\n",
            "Порубов 459\n",
            "Росляков 653\n"
          ]
        }
      ]
    },
    {
      "cell_type": "markdown",
      "source": [
        "Задача №5"
      ],
      "metadata": {
        "id": "bRjpi1qlRw9s"
      }
    },
    {
      "cell_type": "code",
      "source": [
        "from collections import defaultdict\n",
        "word_count = defaultdict(int)\n",
        "try:\n",
        "    while True:\n",
        "      line = input().strip()\n",
        "      if not line:\n",
        "          break\n",
        "      words = line.split()\n",
        "      for word in words:\n",
        "        word_count[word] += 1\n",
        "except EOFError:\n",
        "    pass\n",
        "sorted_words = sorted(word_count.items(), key=lambda item: (-item[1], item[0]))\n",
        "for word, count in sorted_words:\n",
        "    print(word)"
      ],
      "metadata": {
        "id": "xroTkWX3RwwS",
        "colab": {
          "base_uri": "https://localhost:8080/"
        },
        "outputId": "d0eefc21-8418-4067-d3e0-5c3554b1c763"
      },
      "execution_count": 29,
      "outputs": [
        {
          "output_type": "stream",
          "name": "stdout",
          "text": [
            "арбуз арбуз привет\n",
            "далекая тьма ждет нас\n",
            "арбуз величайший \n",
            "\n",
            "арбуз\n",
            "величайший\n",
            "далекая\n",
            "ждет\n",
            "нас\n",
            "привет\n",
            "тьма\n"
          ]
        }
      ]
    },
    {
      "cell_type": "markdown",
      "source": [
        "Задача №6"
      ],
      "metadata": {
        "id": "pFeqSmzcRwkX"
      }
    },
    {
      "cell_type": "code",
      "source": [
        "accounts = {}\n",
        "\n",
        "while True:\n",
        "    command = input().strip()\n",
        "    if command == \"EXIT\":\n",
        "        break\n",
        "    parts = command.split()\n",
        "    if parts[0] == \"DEPOSIT\":\n",
        "        name = parts[1]\n",
        "        amount = int(parts[2])\n",
        "        if name not in accounts:\n",
        "            accounts[name] = 0\n",
        "        accounts[name] += amount\n",
        "\n",
        "    elif parts[0] == \"WITHDRAW\":\n",
        "        name = parts[1]\n",
        "        amount = int(parts[2])\n",
        "        if name not in accounts:\n",
        "            accounts[name] = 0\n",
        "        accounts[name] -= amount\n",
        "\n",
        "    elif parts[0] == \"BALANCE\":\n",
        "        name = parts[1]\n",
        "        if name in accounts:\n",
        "            print(accounts[name])\n",
        "        else:\n",
        "            print(\"ERROR\")\n",
        "    elif parts[0] == \"TRANSFER\":\n",
        "        name1 = parts[1]\n",
        "        name2 = parts[2]\n",
        "        amount = int(parts[3])\n",
        "\n",
        "        if name1 not in accounts:\n",
        "            accounts[name1] = 0\n",
        "        if name2 not in accounts:\n",
        "            accounts[name2] = 0\n",
        "\n",
        "        accounts[name1] -= amount\n",
        "        accounts[name2] += amount\n",
        "\n",
        "    elif parts[0] == \"INCOME\":\n",
        "        percent = int(parts[1])\n",
        "        for name in accounts:\n",
        "            if accounts[name] > 0:\n",
        "                interest = accounts[name] * percent // 100\n",
        "                accounts[name] += interest\n"
      ],
      "metadata": {
        "id": "RgWdpMTyRwYH",
        "colab": {
          "base_uri": "https://localhost:8080/"
        },
        "outputId": "c0429c17-5fbe-4a8d-fa91-541cb25fdf1a"
      },
      "execution_count": 47,
      "outputs": [
        {
          "name": "stdout",
          "output_type": "stream",
          "text": [
            "DEPOSIT Алена 100\n",
            "WITHDRAW Алена 50\n",
            "BALANCE Алена\n",
            "50\n",
            "TRANSFER Aлена Олег 30\n",
            "INCOME 10\n",
            "BALANCE Алена \n",
            "55\n",
            "BALANCE Олег\n",
            "33\n",
            "EXIT\n"
          ]
        }
      ]
    },
    {
      "cell_type": "markdown",
      "source": [
        "Задача №7"
      ],
      "metadata": {
        "id": "Eh9dk8IaRwL-"
      }
    },
    {
      "cell_type": "code",
      "source": [
        "N, M, X, Y = map(int, input().split())\n",
        "matrix = [[0] * M for _ in range(N)]\n",
        "n = 0\n",
        "for i in range(N):\n",
        "    if i % 2 == 0:\n",
        "        for j in range(M):\n",
        "            matrix[i][j] = n\n",
        "            n += 1\n",
        "    else:\n",
        "        for j in range(M - 1, -1, -1):\n",
        "            matrix[i][j] = n\n",
        "            n += 1\n",
        "print(matrix[X - 1][Y - 1])"
      ],
      "metadata": {
        "id": "8u9pSXpGR5Di",
        "colab": {
          "base_uri": "https://localhost:8080/"
        },
        "outputId": "00c00cbd-aaf9-4480-b9bc-683bb286edb1"
      },
      "execution_count": 33,
      "outputs": [
        {
          "output_type": "stream",
          "name": "stdout",
          "text": [
            "4 4 2 3\n",
            "5\n"
          ]
        }
      ]
    },
    {
      "cell_type": "markdown",
      "source": [
        "Задача №8"
      ],
      "metadata": {
        "id": "Q83l0Z3zR57n"
      }
    },
    {
      "cell_type": "code",
      "source": [
        "N = int(input())\n",
        "calories = []\n",
        "for _ in range(N):\n",
        "    row = list(map(int, input().split()))\n",
        "    calories.append(row)\n",
        "x, y = N - 1, 0\n",
        "total_calories = 0\n",
        "while x >= 0 and y < N:\n",
        "    total_calories += calories[x][y]\n",
        "    if x > 0 and y < N - 1:\n",
        "        if calories[x - 1][y] > calories[x][y + 1]:\n",
        "            x -= 1\n",
        "        else:\n",
        "            y += 1\n",
        "    elif x > 0:\n",
        "        x -= 1\n",
        "    elif y < N - 1:\n",
        "        y += 1\n",
        "print(total_calories)"
      ],
      "metadata": {
        "id": "y3J93u-yR6ZX",
        "colab": {
          "base_uri": "https://localhost:8080/",
          "height": 356
        },
        "outputId": "23b10a10-5ca1-4b6c-f979-ee1559c926ea"
      },
      "execution_count": 37,
      "outputs": [
        {
          "output_type": "error",
          "ename": "KeyboardInterrupt",
          "evalue": "Interrupted by user",
          "traceback": [
            "\u001b[0;31m---------------------------------------------------------------------------\u001b[0m",
            "\u001b[0;31mKeyboardInterrupt\u001b[0m                         Traceback (most recent call last)",
            "\u001b[0;32m<ipython-input-37-857dea88108b>\u001b[0m in \u001b[0;36m<cell line: 1>\u001b[0;34m()\u001b[0m\n\u001b[0;32m----> 1\u001b[0;31m \u001b[0mN\u001b[0m \u001b[0;34m=\u001b[0m \u001b[0mint\u001b[0m\u001b[0;34m(\u001b[0m\u001b[0minput\u001b[0m\u001b[0;34m(\u001b[0m\u001b[0;34m)\u001b[0m\u001b[0;34m)\u001b[0m\u001b[0;34m\u001b[0m\u001b[0;34m\u001b[0m\u001b[0m\n\u001b[0m\u001b[1;32m      2\u001b[0m \u001b[0mcalories\u001b[0m \u001b[0;34m=\u001b[0m \u001b[0;34m[\u001b[0m\u001b[0;34m]\u001b[0m\u001b[0;34m\u001b[0m\u001b[0;34m\u001b[0m\u001b[0m\n\u001b[1;32m      3\u001b[0m \u001b[0;32mfor\u001b[0m \u001b[0m_\u001b[0m \u001b[0;32min\u001b[0m \u001b[0mrange\u001b[0m\u001b[0;34m(\u001b[0m\u001b[0mN\u001b[0m\u001b[0;34m)\u001b[0m\u001b[0;34m:\u001b[0m\u001b[0;34m\u001b[0m\u001b[0;34m\u001b[0m\u001b[0m\n\u001b[1;32m      4\u001b[0m     \u001b[0mrow\u001b[0m \u001b[0;34m=\u001b[0m \u001b[0mlist\u001b[0m\u001b[0;34m(\u001b[0m\u001b[0mmap\u001b[0m\u001b[0;34m(\u001b[0m\u001b[0mint\u001b[0m\u001b[0;34m,\u001b[0m \u001b[0minput\u001b[0m\u001b[0;34m(\u001b[0m\u001b[0;34m)\u001b[0m\u001b[0;34m.\u001b[0m\u001b[0msplit\u001b[0m\u001b[0;34m(\u001b[0m\u001b[0;34m)\u001b[0m\u001b[0;34m)\u001b[0m\u001b[0;34m)\u001b[0m\u001b[0;34m\u001b[0m\u001b[0;34m\u001b[0m\u001b[0m\n\u001b[1;32m      5\u001b[0m     \u001b[0mcalories\u001b[0m\u001b[0;34m.\u001b[0m\u001b[0mappend\u001b[0m\u001b[0;34m(\u001b[0m\u001b[0mrow\u001b[0m\u001b[0;34m)\u001b[0m\u001b[0;34m\u001b[0m\u001b[0;34m\u001b[0m\u001b[0m\n",
            "\u001b[0;32m/usr/local/lib/python3.10/dist-packages/ipykernel/kernelbase.py\u001b[0m in \u001b[0;36mraw_input\u001b[0;34m(self, prompt)\u001b[0m\n\u001b[1;32m    849\u001b[0m                 \u001b[0;34m\"raw_input was called, but this frontend does not support input requests.\"\u001b[0m\u001b[0;34m\u001b[0m\u001b[0;34m\u001b[0m\u001b[0m\n\u001b[1;32m    850\u001b[0m             )\n\u001b[0;32m--> 851\u001b[0;31m         return self._input_request(str(prompt),\n\u001b[0m\u001b[1;32m    852\u001b[0m             \u001b[0mself\u001b[0m\u001b[0;34m.\u001b[0m\u001b[0m_parent_ident\u001b[0m\u001b[0;34m,\u001b[0m\u001b[0;34m\u001b[0m\u001b[0;34m\u001b[0m\u001b[0m\n\u001b[1;32m    853\u001b[0m             \u001b[0mself\u001b[0m\u001b[0;34m.\u001b[0m\u001b[0m_parent_header\u001b[0m\u001b[0;34m,\u001b[0m\u001b[0;34m\u001b[0m\u001b[0;34m\u001b[0m\u001b[0m\n",
            "\u001b[0;32m/usr/local/lib/python3.10/dist-packages/ipykernel/kernelbase.py\u001b[0m in \u001b[0;36m_input_request\u001b[0;34m(self, prompt, ident, parent, password)\u001b[0m\n\u001b[1;32m    893\u001b[0m             \u001b[0;32mexcept\u001b[0m \u001b[0mKeyboardInterrupt\u001b[0m\u001b[0;34m:\u001b[0m\u001b[0;34m\u001b[0m\u001b[0;34m\u001b[0m\u001b[0m\n\u001b[1;32m    894\u001b[0m                 \u001b[0;31m# re-raise KeyboardInterrupt, to truncate traceback\u001b[0m\u001b[0;34m\u001b[0m\u001b[0;34m\u001b[0m\u001b[0m\n\u001b[0;32m--> 895\u001b[0;31m                 \u001b[0;32mraise\u001b[0m \u001b[0mKeyboardInterrupt\u001b[0m\u001b[0;34m(\u001b[0m\u001b[0;34m\"Interrupted by user\"\u001b[0m\u001b[0;34m)\u001b[0m \u001b[0;32mfrom\u001b[0m \u001b[0;32mNone\u001b[0m\u001b[0;34m\u001b[0m\u001b[0;34m\u001b[0m\u001b[0m\n\u001b[0m\u001b[1;32m    896\u001b[0m             \u001b[0;32mexcept\u001b[0m \u001b[0mException\u001b[0m \u001b[0;32mas\u001b[0m \u001b[0me\u001b[0m\u001b[0;34m:\u001b[0m\u001b[0;34m\u001b[0m\u001b[0;34m\u001b[0m\u001b[0m\n\u001b[1;32m    897\u001b[0m                 \u001b[0mself\u001b[0m\u001b[0;34m.\u001b[0m\u001b[0mlog\u001b[0m\u001b[0;34m.\u001b[0m\u001b[0mwarning\u001b[0m\u001b[0;34m(\u001b[0m\u001b[0;34m\"Invalid Message:\"\u001b[0m\u001b[0;34m,\u001b[0m \u001b[0mexc_info\u001b[0m\u001b[0;34m=\u001b[0m\u001b[0;32mTrue\u001b[0m\u001b[0;34m)\u001b[0m\u001b[0;34m\u001b[0m\u001b[0;34m\u001b[0m\u001b[0m\n",
            "\u001b[0;31mKeyboardInterrupt\u001b[0m: Interrupted by user"
          ]
        }
      ]
    },
    {
      "cell_type": "markdown",
      "source": [
        "Задача №9"
      ],
      "metadata": {
        "id": "tMD56XwfR7FS"
      }
    },
    {
      "cell_type": "code",
      "source": [
        "X = int(input())\n",
        "N = int(input())\n",
        "table = []\n",
        "for _ in range(N):\n",
        "    row = list(map(int, input().split()))\n",
        "    table.append(row)\n",
        "for col in range(N):\n",
        "    found = False\n",
        "    for row in range(N):\n",
        "        if table[row][col] == X:\n",
        "            found = True\n",
        "            break\n",
        "    if found:\n",
        "        print(\"YES\")\n",
        "    else:\n",
        "        print(\"NO\")"
      ],
      "metadata": {
        "id": "UTuePSRbR693",
        "colab": {
          "base_uri": "https://localhost:8080/"
        },
        "outputId": "b9c02128-105f-45d4-e677-f5c7b5d1e326"
      },
      "execution_count": 38,
      "outputs": [
        {
          "output_type": "stream",
          "name": "stdout",
          "text": [
            "5\n",
            "3\n",
            "1 2 3\n",
            "4 5 6\n",
            "7 8 9 \n",
            "NO\n",
            "YES\n",
            "NO\n"
          ]
        }
      ]
    },
    {
      "cell_type": "markdown",
      "source": [
        "Задача №10"
      ],
      "metadata": {
        "id": "XAsA0AjjR6vB"
      }
    },
    {
      "cell_type": "code",
      "source": [
        "from collections import defaultdict\n",
        "purchases = defaultdict(lambda: defaultdict(int))\n",
        "while True:\n",
        "    try:\n",
        "        line = input().strip()\n",
        "        if not line:\n",
        "            break\n",
        "        buyer, product, quantity = line.split()\n",
        "        quantity = int(quantity)\n",
        "        purchases[buyer][product] += quantity\n",
        "    except EOFError:\n",
        "        break\n",
        "sorted_buyers = sorted(purchases.keys())\n",
        "output = []\n",
        "for buyer in sorted_buyers:\n",
        "    output.append(f\"{buyer}:\")\n",
        "    sorted_products = sorted(purchases[buyer].keys())\n",
        "    for product in sorted_products:\n",
        "        quantity = purchases[buyer][product]\n",
        "        output.append(f\"{product} {quantity}\")\n",
        "print(\"\\n\".join(output))\n"
      ],
      "metadata": {
        "id": "lWX5ZnnvR5rk",
        "colab": {
          "base_uri": "https://localhost:8080/"
        },
        "outputId": "c31a4ea3-c1c4-4ec2-cc0f-f8b485a692fb"
      },
      "execution_count": 40,
      "outputs": [
        {
          "output_type": "stream",
          "name": "stdout",
          "text": [
            "Матвей яблочко 4\n",
            "Семен бананчик 3\n",
            "Матвей бананчик 2\n",
            "Семен яблочко 1\n",
            "\n",
            "Матвей:\n",
            "бананчик 2\n",
            "яблочко 4\n",
            "Семен:\n",
            "бананчик 3\n",
            "яблочко 1\n"
          ]
        }
      ]
    },
    {
      "cell_type": "markdown",
      "source": [
        "Задача №11"
      ],
      "metadata": {
        "id": "Ue2GyVq5R5hD"
      }
    },
    {
      "cell_type": "code",
      "source": [
        "N = int(input())\n",
        "file_permissions = {}\n",
        "for _ in range(N):\n",
        "    line = input().strip().split()\n",
        "    file_name = line[0]\n",
        "    operations = set(line[1:])\n",
        "    file_permissions[file_name] = operations\n",
        "M = int(input())\n",
        "for _ in range(M):\n",
        "    query = input().strip().split()\n",
        "    operation = query[0].lower()\n",
        "    file_name = query[1]\n",
        "    if operation == 'read':\n",
        "        op = 'R'\n",
        "    elif operation == 'write':\n",
        "        op = 'W'\n",
        "    elif operation == 'execute':\n",
        "        op = 'X'\n",
        "    else:\n",
        "        print(\"Access denied\")\n",
        "        continue\n",
        "    if file_name in file_permissions and op in file_permissions[file_name]:\n",
        "        print(\"OK\")\n",
        "    else:\n",
        "        print(\"Access denied\")"
      ],
      "metadata": {
        "id": "U3DiQv8mSFHP",
        "colab": {
          "base_uri": "https://localhost:8080/"
        },
        "outputId": "4d930e28-0177-4a17-ea06-ca4ffc878d99"
      },
      "execution_count": 44,
      "outputs": [
        {
          "output_type": "stream",
          "name": "stdout",
          "text": [
            "4\n",
            "helloworld.exe R X\n",
            "pinglog W R\n",
            "nya R\n",
            "goodluck X W R\n",
            "5\n",
            "read nya\n",
            "OK\n",
            "write helloworld.exe\n",
            "Access denied\n",
            "execute nya\n",
            "Access denied\n",
            "read pinglog\n",
            "OK\n",
            "write pinglog\n",
            "OK\n"
          ]
        }
      ]
    }
  ]
}