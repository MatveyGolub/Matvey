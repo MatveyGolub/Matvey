{
  "nbformat": 4,
  "nbformat_minor": 0,
  "metadata": {
    "colab": {
      "provenance": [],
      "authorship_tag": "ABX9TyPg93KSJyp0XXuD+4IOOnRP",
      "include_colab_link": true
    },
    "kernelspec": {
      "name": "python3",
      "display_name": "Python 3"
    },
    "language_info": {
      "name": "python"
    }
  },
  "cells": [
    {
      "cell_type": "markdown",
      "metadata": {
        "id": "view-in-github",
        "colab_type": "text"
      },
      "source": [
        "<a href=\"https://colab.research.google.com/github/MatveyGolub/Matvey/blob/main/%D0%91%D0%98%D0%9A24_%D0%98%D0%922_%D0%93%D0%BE%D0%BB%D1%83%D0%B1_%D0%9B%D0%A03.ipynb\" target=\"_parent\"><img src=\"https://colab.research.google.com/assets/colab-badge.svg\" alt=\"Open In Colab\"/></a>"
      ]
    },
    {
      "cell_type": "markdown",
      "source": [
        "Дан набор символов определенной длины. Известно, что между симлволами еть запятые. Найти длину каждой последовательности символов отдельнными запятыми.\n",
        "Пример: абв, абвг, вбгд, абд. Ответ: 3,4,4,3"
      ],
      "metadata": {
        "id": "nevQB2QwJYTH"
      }
    },
    {
      "cell_type": "code",
      "source": [
        "input = \"абв, абвг, вбгд, абд\"\n",
        "parts = input.split(\", \")\n",
        "lengths = [len(part) for part in parts]\n",
        "print(\",\".join(map(str,lengths)))"
      ],
      "metadata": {
        "colab": {
          "base_uri": "https://localhost:8080/"
        },
        "id": "8YxR2OBVJaU6",
        "outputId": "6cc632ab-2745-43e8-ae41-636960ffad63"
      },
      "execution_count": 5,
      "outputs": [
        {
          "output_type": "stream",
          "name": "stdout",
          "text": [
            "3,4,4,3\n"
          ]
        }
      ]
    },
    {
      "cell_type": "markdown",
      "source": [
        "Даны две переменных и строка: n, m, stroka. Необходимо вывети масссив слов с первого элемента строки до элемент n и массив слов с элементами m до конца строки. Массив слов - это набор слов без любых других символов и пробелов. Пример: stroka = Привет, мир n = 8, m = 5. Ответ: [\"Привет\"],[\"т\", \"мир\"]"
      ],
      "metadata": {
        "id": "e71oWpbOMgFl"
      }
    },
    {
      "cell_type": "code",
      "source": [
        "stroka = \"Привет, т, мир\"\n",
        "n = 8\n",
        "m = 5\n",
        "words =\n"
      ],
      "metadata": {
        "id": "I1esatdUN5IR"
      },
      "execution_count": 4,
      "outputs": []
    }
  ]
}