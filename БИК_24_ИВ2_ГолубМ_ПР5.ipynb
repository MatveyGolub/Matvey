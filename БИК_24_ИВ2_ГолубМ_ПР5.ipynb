{
  "nbformat": 4,
  "nbformat_minor": 0,
  "metadata": {
    "colab": {
      "provenance": [],
      "authorship_tag": "ABX9TyNcA/1QqbFr6OvHUrEz1y5q",
      "include_colab_link": true
    },
    "kernelspec": {
      "name": "python3",
      "display_name": "Python 3"
    },
    "language_info": {
      "name": "python"
    }
  },
  "cells": [
    {
      "cell_type": "markdown",
      "metadata": {
        "id": "view-in-github",
        "colab_type": "text"
      },
      "source": [
        "<a href=\"https://colab.research.google.com/github/MatveyGolub/Matvey/blob/main/%D0%91%D0%98%D0%9A_24_%D0%98%D0%922_%D0%93%D0%BE%D0%BB%D1%83%D0%B1%D0%9C_%D0%9F%D0%A05.ipynb\" target=\"_parent\"><img src=\"https://colab.research.google.com/assets/colab-badge.svg\" alt=\"Open In Colab\"/></a>"
      ]
    },
    {
      "cell_type": "markdown",
      "source": [
        "Напишите программу, которая бы вычисляла сумму чисел с n до m. Числа n и m вводятся с клавиатуры."
      ],
      "metadata": {
        "id": "k6Ej9tuKRQ6X"
      }
    },
    {
      "cell_type": "code",
      "execution_count": 3,
      "metadata": {
        "colab": {
          "base_uri": "https://localhost:8080/"
        },
        "id": "OR0dfTp8QSgm",
        "outputId": "0aeee901-ed5b-478a-8f49-787a5c3ba4dd"
      },
      "outputs": [
        {
          "output_type": "stream",
          "name": "stdout",
          "text": [
            "1\n",
            "3\n",
            "6\n"
          ]
        }
      ],
      "source": [
        "n = int(input())\n",
        "m = int(input())\n",
        "total_sum = sum(range(n,m+1))\n",
        "print (f\"{total_sum}\")"
      ]
    },
    {
      "cell_type": "markdown",
      "source": [
        "Напишите программу, которая принимает на вход два числа n и m и вычисляет сумму этих чисел. Программа принимает числа выводит результат до тех пор, пока пользователь не введет такую комбинацию чисел, что n=m."
      ],
      "metadata": {
        "id": "4z8W3vUfTAtE"
      }
    },
    {
      "cell_type": "code",
      "source": [
        "total_sum = 0\n",
        "while True:\n",
        "\n",
        "  n = int(input())\n",
        "  m = int(input())\n",
        "  if n == m:\n",
        "    print(\"ОШИБКА ЙОУ! Два одинаковых числа\")\n",
        "    break\n",
        "  total_sum = n + m\n",
        "  print(f\"Сумма:{total_sum}.\")"
      ],
      "metadata": {
        "colab": {
          "base_uri": "https://localhost:8080/"
        },
        "id": "xBfbmvUrT6D1",
        "outputId": "f1a0fc8e-1912-462e-c306-22d941ca5efb"
      },
      "execution_count": 3,
      "outputs": [
        {
          "output_type": "stream",
          "name": "stdout",
          "text": [
            "1\n",
            "2\n",
            "Сумма:3.\n",
            "3\n",
            "3\n",
            "ОШИБКА ЙОУ! Два одинаковых числа\n"
          ]
        }
      ]
    },
    {
      "cell_type": "markdown",
      "source": [
        "Дан набор данных, содержащий ~2000 посиковых фраз для некоторого агенства по разработке сайтов, каждая фраза написана на отдельной строке. Необходимо обработать данный набор фраз решить задачи."
      ],
      "metadata": {
        "id": "l1JVaXyNYNce"
      }
    },
    {
      "cell_type": "code",
      "source": [
        "with open(\"input.txt\",\"r\", encoding=\"utf-8\") as f:\n",
        "  data = f.readlines()\n",
        "n = len(data)\n",
        "print(f\"Количество фраз в документе:{n}\")\n",
        "m = sum(len(data.split()) for data in data)\n",
        "print(f\"Количество слов в документе:{m}\")"
      ],
      "metadata": {
        "colab": {
          "base_uri": "https://localhost:8080/"
        },
        "id": "JYV4Nv19Y7KO",
        "outputId": "2f872ab1-6d1f-4150-d8e0-2a77786aa487"
      },
      "execution_count": 5,
      "outputs": [
        {
          "output_type": "stream",
          "name": "stdout",
          "text": [
            "Количество фраз в документе:2107\n",
            "Количество слов в документе:6957\n"
          ]
        }
      ]
    }
  ]
}